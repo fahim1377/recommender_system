{
  "nbformat": 4,
  "nbformat_minor": 0,
  "metadata": {
    "colab": {
      "name": "colaborative_filtering.ipynb",
      "provenance": [],
      "collapsed_sections": []
    },
    "kernelspec": {
      "display_name": "Python 3",
      "language": "python",
      "name": "python3"
    },
    "language_info": {
      "codemirror_mode": {
        "name": "ipython",
        "version": 3
      },
      "file_extension": ".py",
      "mimetype": "text/x-python",
      "name": "python",
      "nbconvert_exporter": "python",
      "pygments_lexer": "ipython3",
      "version": "3.8.7"
    }
  },
  "cells": [
    {
      "cell_type": "markdown",
      "metadata": {
        "id": "3etSU6rRpubp"
      },
      "source": [
        "# Preproccessing and Colaborative Filtering"
      ]
    },
    {
      "cell_type": "code",
      "metadata": {
        "id": "ipoOIVCJHe-z",
        "colab": {
          "base_uri": "https://localhost:8080/"
        },
        "outputId": "39f655fe-fd55-43f6-dcb7-9dd2e25b92db"
      },
      "source": [
        "!wget http://www2.informatik.uni-freiburg.de/~cziegler/BX/BX-CSV-Dump.zip\n",
        "!pip install surprise\n",
        "!unzip /content/BX-CSV-Dump.zip"
      ],
      "execution_count": 2,
      "outputs": [
        {
          "output_type": "stream",
          "text": [
            "--2021-02-03 19:12:10--  http://www2.informatik.uni-freiburg.de/~cziegler/BX/BX-CSV-Dump.zip\n",
            "Resolving www2.informatik.uni-freiburg.de (www2.informatik.uni-freiburg.de)... 132.230.105.133\n",
            "Connecting to www2.informatik.uni-freiburg.de (www2.informatik.uni-freiburg.de)|132.230.105.133|:80... connected.\n",
            "HTTP request sent, awaiting response... 200 OK\n",
            "Length: 26085508 (25M) [application/zip]\n",
            "Saving to: ‘BX-CSV-Dump.zip.1’\n",
            "\n",
            "BX-CSV-Dump.zip.1   100%[===================>]  24.88M  13.5MB/s    in 1.8s    \n",
            "\n",
            "2021-02-03 19:12:13 (13.5 MB/s) - ‘BX-CSV-Dump.zip.1’ saved [26085508/26085508]\n",
            "\n",
            "Requirement already satisfied: surprise in /usr/local/lib/python3.6/dist-packages (0.1)\n",
            "Requirement already satisfied: scikit-surprise in /usr/local/lib/python3.6/dist-packages (from surprise) (1.1.1)\n",
            "Requirement already satisfied: joblib>=0.11 in /usr/local/lib/python3.6/dist-packages (from scikit-surprise->surprise) (1.0.0)\n",
            "Requirement already satisfied: six>=1.10.0 in /usr/local/lib/python3.6/dist-packages (from scikit-surprise->surprise) (1.15.0)\n",
            "Requirement already satisfied: numpy>=1.11.2 in /usr/local/lib/python3.6/dist-packages (from scikit-surprise->surprise) (1.19.5)\n",
            "Requirement already satisfied: scipy>=1.0.0 in /usr/local/lib/python3.6/dist-packages (from scikit-surprise->surprise) (1.4.1)\n",
            "Archive:  /content/BX-CSV-Dump.zip\n",
            "replace BX-Book-Ratings.csv? [y]es, [n]o, [A]ll, [N]one, [r]ename: n\n",
            "replace BX-Books.csv? [y]es, [n]o, [A]ll, [N]one, [r]ename: n\n",
            "replace BX-Users.csv? [y]es, [n]o, [A]ll, [N]one, [r]ename: n\n"
          ],
          "name": "stdout"
        }
      ]
    },
    {
      "cell_type": "code",
      "metadata": {
        "id": "oP49UV5c454N"
      },
      "source": [
        ""
      ],
      "execution_count": null,
      "outputs": []
    },
    {
      "cell_type": "markdown",
      "metadata": {
        "id": "JH1flVlfqlcr"
      },
      "source": [
        "**ایمپورت کردن کتابخانه های لازم**\r\n",
        "\r\n",
        "کتابخانه اصلی برای انجام فرآیندهای مربوط به سیستم پیشنهاد دهنده که استفاده کرده ایم، کتابخانه سورپرایز است.\r\n",
        "\r\n"
      ]
    },
    {
      "cell_type": "code",
      "metadata": {
        "id": "ffHMmEm2qnsH"
      },
      "source": [
        "import pandas as pd\r\n",
        "import numpy as np\r\n",
        "import matplotlib.pyplot as plt\r\n",
        "from string import ascii_letters, digits\r\n",
        "from surprise.model_selection import cross_validate\r\n",
        "import seaborn as snns\r\n",
        "from surprise import Dataset, Reader\r\n",
        "from surprise import KNNBasic, KNNWithMeans, KNNWithZScore, KNNBaseline\r\n",
        "from surprise.model_selection import cross_validate, train_test_split, GridSearchCV\r\n",
        "from sklearn.metrics import mean_squared_error\r\n",
        "from operator import attrgetter\r\n",
        "from sklearn.metrics import mean_squared_error\r\n",
        "import math\r\n",
        "from sklearn.feature_extraction.text import TfidfVectorizer\r\n",
        "from sklearn.metrics.pairwise import cosine_similarity\r\n",
        "import pickle \r\n",
        "import seaborn as sns\r\n"
      ],
      "execution_count": 144,
      "outputs": []
    },
    {
      "cell_type": "code",
      "metadata": {
        "id": "XSjCIQyq5PaK"
      },
      "source": [
        ""
      ],
      "execution_count": null,
      "outputs": []
    },
    {
      "cell_type": "code",
      "metadata": {
        "id": "dGsqVrfJ4uEI"
      },
      "source": [
        ""
      ],
      "execution_count": null,
      "outputs": []
    },
    {
      "cell_type": "markdown",
      "metadata": {
        "id": "GftZseBJr-lQ"
      },
      "source": [
        "**توابع موردنیاز**\r\n",
        "\r\n",
        "در این قسمت توابع کمکی برای انجام امور مربوط به آماده سازی و آموزش مدل سیستم پیشنهاد دهنده وجود دارد.\r\n",
        "\r\n",
        "توضیح عملکرد هر تابع خارج از حوصله این تمرین است."
      ]
    },
    {
      "cell_type": "code",
      "metadata": {
        "id": "L_cEDGQe_p3H"
      },
      "source": [
        "\n",
        "def k_from_details(details):\n",
        "    try:\n",
        "        return details['actual_k']\n",
        "    except KeyError:\n",
        "        return 1000\n",
        "\n",
        "def short_title(title, max_len=40):\n",
        "    title = str(title).split(' ')\n",
        "    short_title = ''\n",
        "\n",
        "    for i in range(len(title)):\n",
        "        if len(short_title) < max_len:\n",
        "            short_title = ' '.join([short_title, title[i]])\n",
        "    short_title = short_title.strip()\n",
        "    return short_title\n",
        "\n",
        "def ascii_check(item):\n",
        "    for letter in str(item):\n",
        "        if letter not in ascii_letters + digits:\n",
        "            return 1\n",
        "        else:\n",
        "            return 0\n",
        "\n",
        "def ascii_check_bulk(df):\n",
        "    for col in df.columns:\n",
        "        print('items with non-ascii characters in %s: %d' % (col, df[col].apply(ascii_check).sum()))\n",
        "    print('')\n",
        "\n",
        "def colname_fix(colname):\n",
        "    return colname.lower().replace('-','_')\n",
        "\n",
        "\n",
        "def df_dist(df, colname, norm=False):\n",
        "    new_df = df[colname].value_counts(normalize=norm).reset_index()\n",
        "    new_df.columns = [colname, 'count']\n",
        "    return new_df\n",
        "\n",
        "def books_groupby(df, column, new_colname):\n",
        "    df_groupby = df.groupby(column).agg({'isbn': 'count', 'book_rating': 'mean'}).reset_index()\n",
        "    df_groupby.columns = [new_colname, 'count', 'avg_rating']\n",
        "    return df_groupby\n",
        "\n",
        "\n",
        "def draw_distribution(data, title_part, threshold=20):\n",
        "    fig, (ax1, ax2) = plt.subplots(nrows=1, ncols=2, figsize=(14, 4))\n",
        "\n",
        "    sns.distplot(data['count'], color='#2f6194', ax=ax1)\n",
        "    ax1.set_title('Distribution of number of ratings per %s' % title_part)\n",
        "\n",
        "    sns.countplot(data[data['count']<=threshold]['count'], color='#2f6194', ax=ax2)\n",
        "    ax2.set_title('Distribution of number of ratings per %s (<= %d ratings)' % (title_part, threshold))\n",
        "\n",
        "    plt.show()\n",
        "\n",
        "def draw_top_chart(data, x, y_list, title):\n",
        "    fig, ax1 = plt.subplots(figsize=(14, 6))\n",
        "    plt.xticks(rotation=90)\n",
        "\n",
        "    palette = sns.color_palette(\"RdBu\", len(data))\n",
        "\n",
        "    sns.barplot(x=x, y=y_list[0], data=data, palette=palette, ax=ax1)\n",
        "    ax1.set_title(title)\n",
        "\n",
        "    ax2 = ax1.twinx()\n",
        "    sns.scatterplot(x=x, y=y_list[1], data=data, color='black', ax=ax2)\n",
        "\n",
        "    plt.show()\n",
        "\n",
        "\n",
        "def get_model_name(model):\n",
        "    return str(model).split('.')[-1].split(' ')[0].replace(\"'>\", \"\")\n",
        "\n",
        "def cv_multiple_models(data, models_dict, cv=3):\n",
        "    results = pd.DataFrame()\n",
        "\n",
        "    for model_name, model in models_dict.items():\n",
        "        print('\\n---> CV for %s...' % model_name)\n",
        "\n",
        "        cv_results = cross_validate(model, data, cv=cv)\n",
        "        tmp = pd.DataFrame(cv_results).mean()\n",
        "        tmp['model'] = model_name\n",
        "        results = results.append(tmp, ignore_index=True)\n",
        "\n",
        "    return results\n",
        "\n",
        "def generate_models_dict(models, sim_names, user_based):\n",
        "    models_dict = {}\n",
        "\n",
        "    for sim_name in sim_names:\n",
        "        sim_dict = {\n",
        "            'name': sim_name,\n",
        "            'user_based': user_based\n",
        "        }\n",
        "        for model in models:\n",
        "            model_name = get_model_name(model) + ' ' + sim_name\n",
        "            models_dict[model_name] = model(sim_options=sim_dict)\n",
        "\n",
        "    return models_dict\n",
        "\n",
        "def draw_model_results(results):\n",
        "    fig, ax1 = plt.subplots(figsize=(10, 6))\n",
        "    plt.xticks(rotation=90)\n",
        "\n",
        "    palette = sns.color_palette(\"RdBu\", len(results))\n",
        "\n",
        "    sns.barplot(x='model', y='test_rmse', data=results, palette=palette, ax=ax1)\n",
        "    ax1.set_title('Test RMSE and fit time of evaluated models')\n",
        "\n",
        "    ax2 = ax1.twinx()\n",
        "    sns.scatterplot(x='model', y='fit_time', data=results, color='black', ax=ax2)\n",
        "    ax2.set(ylim=(0, results['fit_time'].max() * 1.1))\n",
        "\n",
        "    plt.show()"
      ],
      "execution_count": 136,
      "outputs": []
    },
    {
      "cell_type": "code",
      "metadata": {
        "id": "gFTGJ83z5ef5"
      },
      "source": [
        ""
      ],
      "execution_count": null,
      "outputs": []
    },
    {
      "cell_type": "code",
      "metadata": {
        "id": "-IVEHHve5RP-"
      },
      "source": [
        ""
      ],
      "execution_count": null,
      "outputs": []
    },
    {
      "cell_type": "markdown",
      "metadata": {
        "id": "KHSr-mojzvz6"
      },
      "source": [
        "ساخت دیتافریم های موردنیاز از دیتاست ها"
      ]
    },
    {
      "cell_type": "code",
      "metadata": {
        "id": "e2XKrDWMHPq5"
      },
      "source": [
        "path = '/content/'\n",
        "\n",
        "df_ratings = pd.read_csv(path + 'BX-Book-Ratings.csv', sep=';', encoding='cp1250')\n",
        "df_books = pd.read_csv(path + 'BX-Books.csv', sep=';', encoding='cp1250', escapechar='\\\\')\n",
        "df_users = pd.read_csv(path + 'BX-Users.csv', sep=';', encoding='cp1250')\n",
        "\n",
        "for df in [df_ratings, df_books, df_users]:\n",
        "    df.columns = [colname_fix(col) for col in df.columns]"
      ],
      "execution_count": 137,
      "outputs": []
    },
    {
      "cell_type": "markdown",
      "metadata": {
        "id": "rn3so52H0fnX"
      },
      "source": [
        "در این بخش بررسی می کنیم که آیا متون موجود در دیتاست هایمان شامل کاراکترهای غیراسکی هستند یا خیر."
      ]
    },
    {
      "cell_type": "code",
      "metadata": {
        "colab": {
          "base_uri": "https://localhost:8080/"
        },
        "id": "XJkxodL10eGK",
        "outputId": "9e7c088c-2f22-4a8d-a4db-61bca129e2e4"
      },
      "source": [
        "ascii_check_bulk(df_ratings)\r\n",
        "ascii_check_bulk(df_books)\r\n",
        "ascii_check_bulk(df_users)"
      ],
      "execution_count": 138,
      "outputs": [
        {
          "output_type": "stream",
          "text": [
            "items with non-ascii characters in user_id: 0\n",
            "items with non-ascii characters in isbn: 55\n",
            "items with non-ascii characters in book_rating: 0\n",
            "\n",
            "items with non-ascii characters in isbn: 0\n",
            "items with non-ascii characters in book_title: 365\n",
            "items with non-ascii characters in book_author: 21\n",
            "items with non-ascii characters in year_of_publication: 0\n",
            "items with non-ascii characters in publisher: 33\n",
            "items with non-ascii characters in image_url_s: 0\n",
            "items with non-ascii characters in image_url_m: 0\n",
            "items with non-ascii characters in image_url_l: 0\n",
            "\n",
            "items with non-ascii characters in user_id: 0\n",
            "items with non-ascii characters in location: 560\n",
            "items with non-ascii characters in age: 0\n",
            "\n"
          ],
          "name": "stdout"
        }
      ]
    },
    {
      "cell_type": "markdown",
      "metadata": {
        "id": "fLQlhtNMz-xE"
      },
      "source": [
        "به دلیل وجود کاراکترهای نان اسکی در برخی از ردیف ها، نیاز است تا قبل از پردازش بر روی داده ها، آن ها را پالایش کرده و حذف نمود.\r\n",
        "\r\n",
        "در این قسمت با استفاده از تابع اسکی-چک، ردیفه هایی که شامل کاراکترهای غیر اسکی می باشد را حذف می کنیم."
      ]
    },
    {
      "cell_type": "code",
      "metadata": {
        "id": "KP_h8XS0Iqv4"
      },
      "source": [
        "df_ratings['isbn_check'] = df_ratings['isbn'].apply(ascii_check)\n",
        "df_ratings = df_ratings[df_ratings['isbn_check']==0]\n",
        "\n",
        "df_users['country'] = df_users['location'].apply(lambda x: x.split(', ')[-1].title())\n",
        "df_users['country_check'] = df_users['country'].apply(ascii_check)\n",
        "df_users.loc[df_users['country_check']==1, 'country'] = np.nan\n",
        "\n"
      ],
      "execution_count": 139,
      "outputs": []
    },
    {
      "cell_type": "markdown",
      "metadata": {
        "id": "0l7RPyup0wsu"
      },
      "source": [
        "حذف کردن ستون های غیرضروری مثل یو آر ال عکس ها و غیره"
      ]
    },
    {
      "cell_type": "code",
      "metadata": {
        "id": "9AoZyfEB0wC2"
      },
      "source": [
        "\r\n",
        "df_ratings.drop(['isbn_check'], axis=1, inplace=True)\r\n",
        "df_books.drop(['image_url_s', 'image_url_m', 'image_url_l'], axis=1, inplace=True)\r\n",
        "df_users.drop(['country_check'], axis=1, inplace=True)\r\n"
      ],
      "execution_count": 140,
      "outputs": []
    },
    {
      "cell_type": "markdown",
      "metadata": {
        "id": "Lz_ATp-d06PU"
      },
      "source": [
        "در این قسمت دیتاست ریت کتاب ها را به دو بخش تقسیم می کنیم. کتاب هایی که هیچ ریتی دریافت نکردند و کتاب هایی که حداقل یک ریت دریافت کرده اند.\r\n",
        "\r\n",
        "سپس این دو دیتاست را در فایل هایی جداگانه ذخیره می کنیم."
      ]
    },
    {
      "cell_type": "code",
      "metadata": {
        "colab": {
          "base_uri": "https://localhost:8080/"
        },
        "id": "FUPRl3DN0_CN",
        "outputId": "10e24bd2-de3e-41dd-81d9-386946184914"
      },
      "source": [
        "df_ratings_explicit = df_ratings[df_ratings['book_rating']!=0]\r\n",
        "df_ratings_implicit = df_ratings[df_ratings['book_rating']==0]\r\n",
        "\r\n",
        "print('Explicit ratings: %d\\nImplicit ratings: %d' % (len(df_ratings_explicit), len(df_ratings_implicit)))\r\n",
        "\r\n",
        "path = '/content/'\r\n",
        "df_ratings_explicit.to_csv(path + r'data\\ratings_explicit.csv', encoding='utf-8', index=False)\r\n",
        "df_ratings_implicit.to_csv(path + r'data\\ratings_implicit.csv', encoding='utf-8', index=False)\r\n",
        "df_books.to_csv(path + r'data\\books.csv', encoding='utf-8', index=False)\r\n",
        "df_users.to_csv(path + r'data\\users.csv', encoding='utf-8', index=False)"
      ],
      "execution_count": 141,
      "outputs": [
        {
          "output_type": "stream",
          "text": [
            "Explicit ratings: 433642\n",
            "Implicit ratings: 716083\n"
          ],
          "name": "stdout"
        }
      ]
    },
    {
      "cell_type": "markdown",
      "metadata": {
        "id": "HagWrMh31ehi"
      },
      "source": [
        "به دلیل وجود تعداد زیاد کاربران، کتاب ها و رای کاربران به کتاب ها، درصورتی که قصد داشته باشیم از تمام داده ها استفاده کنیم، فضایی بیش از 500 گیگابایت حافظه رم نیاز خواهد بود.\r\n",
        "\r\n",
        "برای به دست آوردن یک دید کلی از توزیع کتاب ها، رای ها و کاربران رای دهنده، نمودارهای زیر را به دست می آوریم.\r\n",
        "\r\n",
        "همانطور که مشاهده می شود، تعداد نسبتا زیادی از کاربران، فعالیت کمی داشته و حداکثر به یک یا دو کتاب رای داده اند.\r\n"
      ]
    },
    {
      "cell_type": "code",
      "metadata": {
        "colab": {
          "base_uri": "https://localhost:8080/",
          "height": 727
        },
        "id": "mGDd4WMi2FC7",
        "outputId": "5bdf8507-2304-4f18-f92c-a1554a2645eb"
      },
      "source": [
        "dist_user = df_dist(df_ratings, 'user_id')\r\n",
        "dist_book = df_dist(df_ratings, 'isbn')\r\n",
        "\r\n",
        "draw_distribution(dist_book, 'book')\r\n",
        "draw_distribution(dist_user, 'user')"
      ],
      "execution_count": 145,
      "outputs": [
        {
          "output_type": "stream",
          "text": [
            "/usr/local/lib/python3.6/dist-packages/seaborn/distributions.py:2557: FutureWarning: `distplot` is a deprecated function and will be removed in a future version. Please adapt your code to use either `displot` (a figure-level function with similar flexibility) or `histplot` (an axes-level function for histograms).\n",
            "  warnings.warn(msg, FutureWarning)\n",
            "/usr/local/lib/python3.6/dist-packages/seaborn/_decorators.py:43: FutureWarning: Pass the following variable as a keyword arg: x. From version 0.12, the only valid positional argument will be `data`, and passing other arguments without an explicit keyword will result in an error or misinterpretation.\n",
            "  FutureWarning\n"
          ],
          "name": "stderr"
        },
        {
          "output_type": "display_data",
          "data": {
            "image/png": "[encoded data removed]",
            "text/plain": [
              "<Figure size 1008x288 with 2 Axes>"
            ]
          },
          "metadata": {
            "tags": [],
            "needs_background": "light"
          }
        },
        {
          "output_type": "stream",
          "text": [
            "/usr/local/lib/python3.6/dist-packages/seaborn/distributions.py:2557: FutureWarning: `distplot` is a deprecated function and will be removed in a future version. Please adapt your code to use either `displot` (a figure-level function with similar flexibility) or `histplot` (an axes-level function for histograms).\n",
            "  warnings.warn(msg, FutureWarning)\n",
            "/usr/local/lib/python3.6/dist-packages/seaborn/_decorators.py:43: FutureWarning: Pass the following variable as a keyword arg: x. From version 0.12, the only valid positional argument will be `data`, and passing other arguments without an explicit keyword will result in an error or misinterpretation.\n",
            "  FutureWarning\n"
          ],
          "name": "stderr"
        },
        {
          "output_type": "display_data",
          "data": {
            "image/png": "[encoded data removed]",
            "text/plain": [
              "<Figure size 1008x288 with 2 Axes>"
            ]
          },
          "metadata": {
            "tags": [],
            "needs_background": "light"
          }
        }
      ]
    },
    {
      "cell_type": "markdown",
      "metadata": {
        "id": "oeN88eNp2PRh"
      },
      "source": [
        "در این قسمت دیتاست را از نظر تعداد داده ها، به شکلی مناسب و منطقی کوچک می کنیم.\r\n",
        "\r\n",
        "در مرحله اول به سراغ بخش کاربران کم فعالیت می رویم.\r\n",
        "\r\n",
        "کاربرانی که از بین هزاران کتاب موجود در سیستم، به کمتر از 20 کتاب رای داده اند، کاربران کم فعالیت بوده و اطلاعات با ارزشی به همراه نخواهند داشت.\r\n",
        "\r\n",
        "بنابراین می توانیم این دسته از کاربران را بدون نگرانی از ایجاد خطا در سیستم پیشنهاد دهنده ما، حذف کنیم.\r\n"
      ]
    },
    {
      "cell_type": "code",
      "metadata": {
        "colab": {
          "base_uri": "https://localhost:8080/"
        },
        "id": "vVVOaT2VI-GV",
        "outputId": "ccc2a540-f58e-48e3-b5fb-ad6f61d0e0d1"
      },
      "source": [
        "user_ratings_threshold = 20\n",
        "\n",
        "filter_users = df_ratings_explicit['user_id'].value_counts()\n",
        "filter_users_list = filter_users[filter_users >= user_ratings_threshold].index.to_list()\n",
        "\n",
        "df_ratings_top = df_ratings_explicit[df_ratings_explicit['user_id'].isin(filter_users_list)]\n",
        "\n",
        "print('Filter: users with at least %d ratings\\nNumber of records: %d' % (user_ratings_threshold, len(df_ratings_top)))\n",
        "\n"
      ],
      "execution_count": 13,
      "outputs": [
        {
          "output_type": "stream",
          "text": [
            "Filter: users with at least 20 ratings\n",
            "Number of records: 246791\n"
          ],
          "name": "stdout"
        }
      ]
    },
    {
      "cell_type": "markdown",
      "metadata": {
        "id": "8l5FxI7j31Tm"
      },
      "source": [
        "در این بخش قصد داریم از بین کتاب های موجود در دیتاست، آن هایی که بیشترین تعداد رای را از کاربران فیلتر شده در قسمت قبل گرفته اند  نگه داریم.\r\n",
        "\r\n",
        "بنابراین از لیستی که نشان دهنده تعداد رای هر کتاب است، 10 درصد بالا را انتخاب می کنیم.\r\n",
        "\r\n"
      ]
    },
    {
      "cell_type": "code",
      "metadata": {
        "colab": {
          "base_uri": "https://localhost:8080/"
        },
        "id": "LfUB0unL30i7",
        "outputId": "0ebf4137-e568-40cc-f68e-2b0b0574884c"
      },
      "source": [
        "book_ratings_threshold_perc = 0.1\r\n",
        "book_ratings_threshold = len(df_ratings_top['isbn'].unique()) * book_ratings_threshold_perc\r\n",
        "\r\n",
        "filter_books_list = df_ratings_top['isbn'].value_counts().head(int(book_ratings_threshold)).index.to_list()\r\n",
        "df_ratings_top = df_ratings_top[df_ratings_top['isbn'].isin(filter_books_list)]\r\n",
        "\r\n",
        "print('Filter: top %d%% most frequently rated books\\nNumber of records: %d' % (book_ratings_threshold_perc*100, len(df_ratings_top)))\r\n",
        "\r\n"
      ],
      "execution_count": 14,
      "outputs": [
        {
          "output_type": "stream",
          "text": [
            "Filter: top 10% most frequently rated books\n",
            "Number of records: 104449\n"
          ],
          "name": "stdout"
        }
      ]
    },
    {
      "cell_type": "markdown",
      "metadata": {
        "id": "m4gBHG0D6Lk-"
      },
      "source": [
        "حال داده های موردنیاز و پالایش شده مان را در فایلی ذخیره می کنیم."
      ]
    },
    {
      "cell_type": "code",
      "metadata": {
        "id": "QM80W6Xx6LMo"
      },
      "source": [
        "df_ratings_top.to_csv(path + r'data\\ratings_top.csv', encoding='utf-8', index=False)"
      ],
      "execution_count": 15,
      "outputs": []
    },
    {
      "cell_type": "markdown",
      "metadata": {
        "id": "jOrQhALV6YeJ"
      },
      "source": [
        "در این قسمت با استفاده از کتابخانه سورپرایز، دیتاستی که در قسمت قبل آماده کردیم لود می کنیم."
      ]
    },
    {
      "cell_type": "code",
      "metadata": {
        "id": "0FtMRvzjKlLl"
      },
      "source": [
        "df = pd.read_csv(path + r'data\\ratings_top.csv')\n",
        "\n",
        "reader = Reader(rating_scale=(1, 10))\n",
        "data = Dataset.load_from_df(df[['user_id', 'isbn', 'book_rating']], reader)"
      ],
      "execution_count": 16,
      "outputs": []
    },
    {
      "cell_type": "markdown",
      "metadata": {
        "id": "FINT-yx8sh8Y"
      },
      "source": [
        "برای پیاده سازی این قسمت از مدل کی ان ان استفاده می کنیم.\r\n",
        "\r\n",
        "برای اینکه بتوانیم بهترین مدل کی ان ان را انتخاب کنیم، در ابتدا خطای هرکدام را با معیار ام اس ادی محاسبه می کنیم.\r\n",
        "\r\n",
        "مدلی که کمترین خطا را داشته باشد، برای ادامه مراحل انتخاب می کنیم."
      ]
    },
    {
      "cell_type": "code",
      "metadata": {
        "colab": {
          "base_uri": "https://localhost:8080/",
          "height": 754
        },
        "id": "9myL5_C5sXg1",
        "outputId": "88d8b248-ce74-4172-904b-bb28ac476309"
      },
      "source": [
        "models1 = generate_models_dict([KNNBasic, KNNWithMeans, KNNWithZScore, KNNBaseline], ['msd'], True)\r\n",
        "results1 = cv_multiple_models(data, models1)\r\n",
        "models1 = None\r\n",
        "display(results1)"
      ],
      "execution_count": 17,
      "outputs": [
        {
          "output_type": "stream",
          "text": [
            "\n",
            "---> CV for KNNBasic msd...\n",
            "Computing the msd similarity matrix...\n",
            "Done computing similarity matrix.\n",
            "Computing the msd similarity matrix...\n",
            "Done computing similarity matrix.\n",
            "Computing the msd similarity matrix...\n",
            "Done computing similarity matrix.\n",
            "\n",
            "---> CV for KNNWithMeans msd...\n",
            "Computing the msd similarity matrix...\n",
            "Done computing similarity matrix.\n",
            "Computing the msd similarity matrix...\n",
            "Done computing similarity matrix.\n",
            "Computing the msd similarity matrix...\n",
            "Done computing similarity matrix.\n",
            "\n",
            "---> CV for KNNWithZScore msd...\n",
            "Computing the msd similarity matrix...\n",
            "Done computing similarity matrix.\n",
            "Computing the msd similarity matrix...\n",
            "Done computing similarity matrix.\n",
            "Computing the msd similarity matrix...\n",
            "Done computing similarity matrix.\n",
            "\n",
            "---> CV for KNNBaseline msd...\n",
            "Estimating biases using als...\n",
            "Computing the msd similarity matrix...\n",
            "Done computing similarity matrix.\n",
            "Estimating biases using als...\n",
            "Computing the msd similarity matrix...\n",
            "Done computing similarity matrix.\n",
            "Estimating biases using als...\n",
            "Computing the msd similarity matrix...\n",
            "Done computing similarity matrix.\n"
          ],
          "name": "stdout"
        },
        {
          "output_type": "display_data",
          "data": {
            "text/html": [
              "<div>\n",
              "<style scoped>\n",
              "    .dataframe tbody tr th:only-of-type {\n",
              "        vertical-align: middle;\n",
              "    }\n",
              "\n",
              "    .dataframe tbody tr th {\n",
              "        vertical-align: top;\n",
              "    }\n",
              "\n",
              "    .dataframe thead th {\n",
              "        text-align: right;\n",
              "    }\n",
              "</style>\n",
              "<table border=\"1\" class=\"dataframe\">\n",
              "  <thead>\n",
              "    <tr style=\"text-align: right;\">\n",
              "      <th></th>\n",
              "      <th>fit_time</th>\n",
              "      <th>model</th>\n",
              "      <th>test_mae</th>\n",
              "      <th>test_rmse</th>\n",
              "      <th>test_time</th>\n",
              "    </tr>\n",
              "  </thead>\n",
              "  <tbody>\n",
              "    <tr>\n",
              "      <th>0</th>\n",
              "      <td>0.636197</td>\n",
              "      <td>KNNBasic msd</td>\n",
              "      <td>1.475850</td>\n",
              "      <td>1.936532</td>\n",
              "      <td>1.176711</td>\n",
              "    </tr>\n",
              "    <tr>\n",
              "      <th>1</th>\n",
              "      <td>0.600294</td>\n",
              "      <td>KNNWithMeans msd</td>\n",
              "      <td>1.294239</td>\n",
              "      <td>1.731066</td>\n",
              "      <td>1.145690</td>\n",
              "    </tr>\n",
              "    <tr>\n",
              "      <th>2</th>\n",
              "      <td>0.712848</td>\n",
              "      <td>KNNWithZScore msd</td>\n",
              "      <td>1.275450</td>\n",
              "      <td>1.726482</td>\n",
              "      <td>1.102417</td>\n",
              "    </tr>\n",
              "    <tr>\n",
              "      <th>3</th>\n",
              "      <td>0.819106</td>\n",
              "      <td>KNNBaseline msd</td>\n",
              "      <td>1.316514</td>\n",
              "      <td>1.743742</td>\n",
              "      <td>1.252419</td>\n",
              "    </tr>\n",
              "  </tbody>\n",
              "</table>\n",
              "</div>"
            ],
            "text/plain": [
              "   fit_time              model  test_mae  test_rmse  test_time\n",
              "0  0.636197       KNNBasic msd  1.475850   1.936532   1.176711\n",
              "1  0.600294   KNNWithMeans msd  1.294239   1.731066   1.145690\n",
              "2  0.712848  KNNWithZScore msd  1.275450   1.726482   1.102417\n",
              "3  0.819106    KNNBaseline msd  1.316514   1.743742   1.252419"
            ]
          },
          "metadata": {
            "tags": []
          }
        }
      ]
    },
    {
      "cell_type": "markdown",
      "metadata": {
        "id": "9__5iCMn8Gxd"
      },
      "source": [
        "بنابر خروجی قسمت بالا، کمترین خطا مربوط به سومی است.\r\n",
        "\r\n",
        "پس از این مدل در ادامه مراحل استفاده خواهیم کرد."
      ]
    },
    {
      "cell_type": "code",
      "metadata": {
        "colab": {
          "base_uri": "https://localhost:8080/",
          "height": 646
        },
        "id": "P_2mhKJbssQD",
        "outputId": "fcb0a17d-b069-49db-eafa-f59544f3e0c2"
      },
      "source": [
        "draw_model_results(results1)"
      ],
      "execution_count": 18,
      "outputs": [
        {
          "output_type": "error",
          "ename": "NameError",
          "evalue": "ignored",
          "traceback": [
            "\u001b[0;31m---------------------------------------------------------------------------\u001b[0m",
            "\u001b[0;31mNameError\u001b[0m                                 Traceback (most recent call last)",
            "\u001b[0;32m<ipython-input-18-5d01311e2093>\u001b[0m in \u001b[0;36m<module>\u001b[0;34m()\u001b[0m\n\u001b[0;32m----> 1\u001b[0;31m \u001b[0mdraw_model_results\u001b[0m\u001b[0;34m(\u001b[0m\u001b[0mresults1\u001b[0m\u001b[0;34m)\u001b[0m\u001b[0;34m\u001b[0m\u001b[0;34m\u001b[0m\u001b[0m\n\u001b[0m",
            "\u001b[0;32m<ipython-input-4-a7a19e316dd7>\u001b[0m in \u001b[0;36mdraw_model_results\u001b[0;34m(results)\u001b[0m\n\u001b[1;32m    103\u001b[0m     \u001b[0mplt\u001b[0m\u001b[0;34m.\u001b[0m\u001b[0mxticks\u001b[0m\u001b[0;34m(\u001b[0m\u001b[0mrotation\u001b[0m\u001b[0;34m=\u001b[0m\u001b[0;36m90\u001b[0m\u001b[0;34m)\u001b[0m\u001b[0;34m\u001b[0m\u001b[0;34m\u001b[0m\u001b[0m\n\u001b[1;32m    104\u001b[0m \u001b[0;34m\u001b[0m\u001b[0m\n\u001b[0;32m--> 105\u001b[0;31m     \u001b[0mpalette\u001b[0m \u001b[0;34m=\u001b[0m \u001b[0msns\u001b[0m\u001b[0;34m.\u001b[0m\u001b[0mcolor_palette\u001b[0m\u001b[0;34m(\u001b[0m\u001b[0;34m\"RdBu\"\u001b[0m\u001b[0;34m,\u001b[0m \u001b[0mlen\u001b[0m\u001b[0;34m(\u001b[0m\u001b[0mresults\u001b[0m\u001b[0;34m)\u001b[0m\u001b[0;34m)\u001b[0m\u001b[0;34m\u001b[0m\u001b[0;34m\u001b[0m\u001b[0m\n\u001b[0m\u001b[1;32m    106\u001b[0m \u001b[0;34m\u001b[0m\u001b[0m\n\u001b[1;32m    107\u001b[0m     \u001b[0msns\u001b[0m\u001b[0;34m.\u001b[0m\u001b[0mbarplot\u001b[0m\u001b[0;34m(\u001b[0m\u001b[0mx\u001b[0m\u001b[0;34m=\u001b[0m\u001b[0;34m'model'\u001b[0m\u001b[0;34m,\u001b[0m \u001b[0my\u001b[0m\u001b[0;34m=\u001b[0m\u001b[0;34m'test_rmse'\u001b[0m\u001b[0;34m,\u001b[0m \u001b[0mdata\u001b[0m\u001b[0;34m=\u001b[0m\u001b[0mresults\u001b[0m\u001b[0;34m,\u001b[0m \u001b[0mpalette\u001b[0m\u001b[0;34m=\u001b[0m\u001b[0mpalette\u001b[0m\u001b[0;34m,\u001b[0m \u001b[0max\u001b[0m\u001b[0;34m=\u001b[0m\u001b[0max1\u001b[0m\u001b[0;34m)\u001b[0m\u001b[0;34m\u001b[0m\u001b[0;34m\u001b[0m\u001b[0m\n",
            "\u001b[0;31mNameError\u001b[0m: name 'sns' is not defined"
          ]
        },
        {
          "output_type": "display_data",
          "data": {
            "image/png": "[encoded data removed]",
            "text/plain": [
              "<Figure size 720x432 with 1 Axes>"
            ]
          },
          "metadata": {
            "tags": [],
            "needs_background": "light"
          }
        }
      ]
    },
    {
      "cell_type": "markdown",
      "metadata": {
        "id": "x8s-fP_Ns2W8"
      },
      "source": [
        "مدل ما باید با استفاده از مجموعه ای از پارامترهای مختلف مثل حداقل تعداد همسایه ها، تعداد ایپوک ها وغیره آموزش ببیند.\r\n",
        "\r\n",
        "به دست آوردن مقدار بهینه برای این پارامترها را با استفاده از کلاس گریدسرچ انجام می دهیم.\r\n",
        "\r\n",
        "ورودی تابع زیر نام الگوریتم شباهت سنجی و متغیری برای مشخص کردن یوزریوزر یا آیتم آیتم بودن مدل.\r\n",
        "\r\n",
        "خروجی تابع نیز اطلاعاتی شامل میزان خطای مدل به ازای پارامترهای مختلف است."
      ]
    },
    {
      "cell_type": "code",
      "metadata": {
        "id": "pdcM2gTtsupl"
      },
      "source": [
        " \r\n",
        "def get_best_param(name, user_based):\r\n",
        "    param_grid = {'k': [40,45,50],\r\n",
        "                  'min_k': [1,3,5],\r\n",
        "                  'sim_options': {'name': [name],\r\n",
        "                                  'min_support': [1, 5],\r\n",
        "                                  'user_based': [user_based]}\r\n",
        "                  }\r\n",
        "    gs = GridSearchCV(KNNWithZScore, param_grid, measures=['rmse', 'mae'], cv=3)\r\n",
        "    gs.fit(data)\r\n",
        "    \r\n",
        "    return gs\r\n"
      ],
      "execution_count": 19,
      "outputs": []
    },
    {
      "cell_type": "markdown",
      "metadata": {
        "id": "m9ynyEWV9QFQ"
      },
      "source": [
        "در هرکدام از 4 سلول زیر، پارامترهای بهینه برای مدل مان را برای حالت یوزیوزر و آیتم آیتم و بر اساس محاسبه کسینوسی و پیرسون و با استفاده از کلاس گریدسرچ، می یابیم.\r\n",
        "\r\n",
        "به دلیل زمان بر بودن این فرآیند، بعد از پیدا شدن پارامترهای بهینه، خروجی را برای استفاده در آینده در فایل ذخیره می کنیم."
      ]
    },
    {
      "cell_type": "code",
      "metadata": {
        "colab": {
          "base_uri": "https://localhost:8080/"
        },
        "id": "02Iij_-P9G0Y",
        "outputId": "4cdd6168-18da-48c9-e6f1-fbc2e67b087a"
      },
      "source": [
        "# user_cosine = get_best_param('cosine', True)\r\n",
        "\r\n",
        "# f = open('user_cosine', 'wb') \r\n",
        "# pickle.dump(user_cosine, f)\r\n",
        "f = open('user_cosine', 'rb') \r\n",
        "user_cosine = pickle.load(f)\r\n",
        "user_cosine"
      ],
      "execution_count": 20,
      "outputs": [
        {
          "output_type": "execute_result",
          "data": {
            "text/plain": [
              "<surprise.model_selection.search.GridSearchCV at 0x7f7b31647c18>"
            ]
          },
          "metadata": {
            "tags": []
          },
          "execution_count": 20
        }
      ]
    },
    {
      "cell_type": "code",
      "metadata": {
        "colab": {
          "base_uri": "https://localhost:8080/"
        },
        "id": "wrm_gywP9nwm",
        "outputId": "5364e7b0-b488-449d-8256-71b000283c55"
      },
      "source": [
        "# user_pearson = get_best_param('pearson',False)\r\n",
        "\r\n",
        "# f = open('user_pearson', 'wb') \r\n",
        "# pickle.dump(user_pearson, f)\r\n",
        "f = open('user_pearson', 'rb') \r\n",
        "user_pearson = pickle.load(f)\r\n",
        "user_pearson"
      ],
      "execution_count": 21,
      "outputs": [
        {
          "output_type": "execute_result",
          "data": {
            "text/plain": [
              "<surprise.model_selection.search.GridSearchCV at 0x7f7b313519b0>"
            ]
          },
          "metadata": {
            "tags": []
          },
          "execution_count": 21
        }
      ]
    },
    {
      "cell_type": "code",
      "metadata": {
        "colab": {
          "base_uri": "https://localhost:8080/"
        },
        "id": "nfxkGnyI9oZU",
        "outputId": "c013b4d2-687c-4d90-f926-9f481c1cd586"
      },
      "source": [
        "# item_cosine = get_best_param('cosine', True)\r\n",
        "\r\n",
        "# f = open('item_cosine', 'wb') \r\n",
        "# pickle.dump(item_cosine, f)\r\n",
        "f = open('item_cosine', 'rb') \r\n",
        "item_cosine = pickle.load(f)\r\n",
        "item_cosine"
      ],
      "execution_count": 22,
      "outputs": [
        {
          "output_type": "execute_result",
          "data": {
            "text/plain": [
              "<surprise.model_selection.search.GridSearchCV at 0x7f7b3116e2e8>"
            ]
          },
          "metadata": {
            "tags": []
          },
          "execution_count": 22
        }
      ]
    },
    {
      "cell_type": "code",
      "metadata": {
        "colab": {
          "base_uri": "https://localhost:8080/"
        },
        "id": "RpAmSWfQ9pLg",
        "outputId": "81f50320-9baa-4694-de7b-932e38061359"
      },
      "source": [
        "# item_pearson = get_best_param('pearson', False)\r\n",
        "\r\n",
        "# f = open('item_pearson', 'wb') \r\n",
        "# pickle.dump(item_pearson, f)\r\n",
        "f = open('item_pearson', 'rb') \r\n",
        "item_pearson = pickle.load(f)\r\n",
        "item_pearson"
      ],
      "execution_count": 23,
      "outputs": [
        {
          "output_type": "execute_result",
          "data": {
            "text/plain": [
              "<surprise.model_selection.search.GridSearchCV at 0x7f7b31132400>"
            ]
          },
          "metadata": {
            "tags": []
          },
          "execution_count": 23
        }
      ]
    },
    {
      "cell_type": "markdown",
      "metadata": {
        "id": "6WET1pZF_cY1"
      },
      "source": [
        "همانطور که در خروجی سلول پایین مشاهده می شود، دقت مدل ما در حالتی که شباهت سنجی فلان و الگوریتم بهمان بهمان باشد، از بقیه حالات بهتر است.\r\n",
        "\r\n",
        "بنابراین در ادامه مراحل  از این پارامترها استفاده  خواهیم کرد.\r\n",
        "\r\n",
        "// TODO find best"
      ]
    },
    {
      "cell_type": "code",
      "metadata": {
        "colab": {
          "base_uri": "https://localhost:8080/"
        },
        "id": "Jiytl4wfutNr",
        "outputId": "420730e7-6652-4177-cb9b-7858d9aa1a4d"
      },
      "source": [
        "print('RMSE of Item-Item - pearson: ', item_pearson.best_score['rmse'], 'with this params: ', item_pearson.best_params['rmse'])\r\n",
        "print('RMSE of Item-Item - cosine: ',item_cosine.best_score['rmse'], 'with this params: ', item_cosine.best_params['rmse'])\r\n",
        "print('RMSE of User-User - pearson: ',user_pearson.best_score['rmse'], 'with this params: ', user_pearson.best_params['rmse'])\r\n",
        "print('RMSE of User-User - cosine: ',user_cosine.best_score['rmse'], 'with this params: ', user_cosine.best_params['rmse'])\r\n"
      ],
      "execution_count": 24,
      "outputs": [
        {
          "output_type": "stream",
          "text": [
            "RMSE of Item-Item - pearson:  1.8539212478380935 with this params:  {'k': 45, 'min_k': 3, 'sim_options': {'name': 'pearson', 'min_support': 1, 'user_based': False}}\n",
            "RMSE of Item-Item - cosine:  1.5729754118456256 with this params:  {'k': 50, 'min_k': 5, 'sim_options': {'name': 'cosine', 'min_support': 1, 'user_based': True}}\n",
            "RMSE of User-User - pearson:  1.8462691793484278 with this params:  {'k': 40, 'min_k': 3, 'sim_options': {'name': 'pearson', 'min_support': 1, 'user_based': False}}\n",
            "RMSE of User-User - cosine:  1.5718790364443513 with this params:  {'k': 40, 'min_k': 5, 'sim_options': {'name': 'cosine', 'min_support': 1, 'user_based': True}}\n"
          ],
          "name": "stdout"
        }
      ]
    },
    {
      "cell_type": "code",
      "metadata": {
        "colab": {
          "base_uri": "https://localhost:8080/",
          "height": 262
        },
        "id": "WQpYuXYHKuXu",
        "outputId": "8e7ff95c-ef3f-4cb8-e698-3e83f373e588"
      },
      "source": [
        "model = generate_models_dict([KNNBaseline], ['cosine'], False)\n",
        "result = cv_multiple_models(data, model)\n",
        "model = None\n",
        "display(result)\n"
      ],
      "execution_count": 25,
      "outputs": [
        {
          "output_type": "stream",
          "text": [
            "\n",
            "---> CV for KNNBaseline cosine...\n",
            "Estimating biases using als...\n",
            "Computing the cosine similarity matrix...\n",
            "Done computing similarity matrix.\n",
            "Estimating biases using als...\n",
            "Computing the cosine similarity matrix...\n",
            "Done computing similarity matrix.\n",
            "Estimating biases using als...\n",
            "Computing the cosine similarity matrix...\n",
            "Done computing similarity matrix.\n"
          ],
          "name": "stdout"
        },
        {
          "output_type": "display_data",
          "data": {
            "text/html": [
              "<div>\n",
              "<style scoped>\n",
              "    .dataframe tbody tr th:only-of-type {\n",
              "        vertical-align: middle;\n",
              "    }\n",
              "\n",
              "    .dataframe tbody tr th {\n",
              "        vertical-align: top;\n",
              "    }\n",
              "\n",
              "    .dataframe thead th {\n",
              "        text-align: right;\n",
              "    }\n",
              "</style>\n",
              "<table border=\"1\" class=\"dataframe\">\n",
              "  <thead>\n",
              "    <tr style=\"text-align: right;\">\n",
              "      <th></th>\n",
              "      <th>fit_time</th>\n",
              "      <th>model</th>\n",
              "      <th>test_mae</th>\n",
              "      <th>test_rmse</th>\n",
              "      <th>test_time</th>\n",
              "    </tr>\n",
              "  </thead>\n",
              "  <tbody>\n",
              "    <tr>\n",
              "      <th>0</th>\n",
              "      <td>16.029775</td>\n",
              "      <td>KNNBaseline cosine</td>\n",
              "      <td>1.213545</td>\n",
              "      <td>1.634254</td>\n",
              "      <td>4.297146</td>\n",
              "    </tr>\n",
              "  </tbody>\n",
              "</table>\n",
              "</div>"
            ],
            "text/plain": [
              "    fit_time               model  test_mae  test_rmse  test_time\n",
              "0  16.029775  KNNBaseline cosine  1.213545   1.634254   4.297146"
            ]
          },
          "metadata": {
            "tags": []
          }
        }
      ]
    },
    {
      "cell_type": "markdown",
      "metadata": {
        "id": "K06W3NNxBqc5"
      },
      "source": [
        "قبل از دادن دیتاست به مدل جهت آموزش، نیاز داریم تا داده ها را به دو قسمت تست و ترین تقسیم کنیم.\r\n",
        "\r\n",
        "برای این کار، 20 درصد داده ها را برای تست و 80 درصد را برای ترین شدن مدل درنظر می گیریم.\r\n",
        "\r\n",
        "این کار را با استفاده از کتابخانه اس کالرن انجام می دهیم. نحوه جداسازی داده های تست و ترین به صورت رندوم می باشد."
      ]
    },
    {
      "cell_type": "code",
      "metadata": {
        "id": "KzGAQjh-BqMv"
      },
      "source": [
        "trainset, testset = train_test_split(data, test_size=0.2)"
      ],
      "execution_count": 26,
      "outputs": []
    },
    {
      "cell_type": "markdown",
      "metadata": {
        "id": "IX5lH4lFCIcl"
      },
      "source": [
        "با استفاده از مقادیر بهینه پارامترها که در بخش قبلی و با استفاده از کلاس گریدسرچ به دست آوردیم، مدل مان را ساخته و فرآیند آموزش را روی داده های ترین انجام می دهیم."
      ]
    },
    {
      "cell_type": "code",
      "metadata": {
        "colab": {
          "base_uri": "https://localhost:8080/"
        },
        "id": "D9M4zdFRK_FW",
        "outputId": "c219d715-1bcb-4c10-de4e-55feacd8ac3d"
      },
      "source": [
        "\n",
        "sim_options = {\n",
        "    'name': 'cosine',\n",
        "    'user_based': False,\n",
        "    'min_support': 1\n",
        "}\n",
        "\n",
        "model = KNNBaseline(k=45, min_k=5, sim_options=sim_options)\n",
        "model.fit(trainset)\n"
      ],
      "execution_count": 27,
      "outputs": [
        {
          "output_type": "stream",
          "text": [
            "Estimating biases using als...\n",
            "Computing the cosine similarity matrix...\n",
            "Done computing similarity matrix.\n"
          ],
          "name": "stdout"
        },
        {
          "output_type": "execute_result",
          "data": {
            "text/plain": [
              "<surprise.prediction_algorithms.knns.KNNBaseline at 0x7f7b31666208>"
            ]
          },
          "metadata": {
            "tags": []
          },
          "execution_count": 27
        }
      ]
    },
    {
      "cell_type": "markdown",
      "metadata": {
        "id": "AeQovEdFCWEB"
      },
      "source": [
        "حال نیاز داریم تا دقت مدل مان را محاسبه کنیم.\r\n",
        "\r\n",
        "برای اینکار مجموعه تست مان را به مدل می دهیم تا ریت کاربران را تخمین بزند. \r\n",
        "\r\n",
        "خروجی تخمین مدل را در متغیر پردیکشنز ذخیره می کنیم."
      ]
    },
    {
      "cell_type": "code",
      "metadata": {
        "id": "bX9MVxAKCVd0"
      },
      "source": [
        "predictions = model.test(testset)"
      ],
      "execution_count": 28,
      "outputs": []
    },
    {
      "cell_type": "markdown",
      "metadata": {
        "id": "idnr7t5UD--7"
      },
      "source": [
        "حال که ریت واقعی کاربران و ریت تخمینی مدل مان را داریم، خطای مدل را محاسبه می کنیم.\r\n",
        "\r\n",
        "برای اینکار از معیار های ام اس ای و آر ام اس ای استفاده می کنیم."
      ]
    },
    {
      "cell_type": "code",
      "metadata": {
        "colab": {
          "base_uri": "https://localhost:8080/"
        },
        "id": "FoCEhk1AzGL-",
        "outputId": "0bdc0520-f2ca-4c80-9ad4-677744b88ee8"
      },
      "source": [
        "# Calculate RMSE and mse\n",
        "estimates = list(map(attrgetter('est'), predictions))\n",
        "actuals = [i[2] for i in testset]\n",
        "\n",
        "mse = mean_squared_error(actuals, estimates)\n",
        "rmse = math.sqrt(mse)\n",
        "\n",
        "print('MSE:', mse)\n",
        "print('RMSE', rmse)\n"
      ],
      "execution_count": 29,
      "outputs": [
        {
          "output_type": "stream",
          "text": [
            "MSE: 2.3167340958733695\n",
            "RMSE 1.522082158056315\n"
          ],
          "name": "stdout"
        }
      ]
    },
    {
      "cell_type": "markdown",
      "metadata": {
        "id": "_3B08cKdJq4k"
      },
      "source": [
        "در این بخش خروجی تخمین مدل مان را به یک دیتافریم تبدیل می کنیم تا تعامل با دیتاهای آن راحت تر شود."
      ]
    },
    {
      "cell_type": "code",
      "metadata": {
        "colab": {
          "base_uri": "https://localhost:8080/",
          "height": 195
        },
        "id": "tDG50zLsMQca",
        "outputId": "9d8ebb67-e00d-4653-986c-96e6c0b50d0c"
      },
      "source": [
        "df_pred = pd.DataFrame(predictions, columns=['user_id', 'isbn', 'actual_rating', 'pred_rating', 'details'])\n",
        "\n",
        "df_pred['k'] = df_pred['details'].apply(k_from_details)\n",
        "df_pred['impossible'] = df_pred['details'].apply(lambda x: x['was_impossible'])\n",
        "df_pred['pred_rating_round'] = df_pred['pred_rating'].round()\n",
        "df_pred['abs_err'] = abs(df_pred['pred_rating'] - df_pred['actual_rating'])\n",
        "df_pred.drop(['details'], axis=1, inplace=True)\n",
        "\n",
        "df_pred.sample(5)"
      ],
      "execution_count": 30,
      "outputs": [
        {
          "output_type": "execute_result",
          "data": {
            "text/html": [
              "<div>\n",
              "<style scoped>\n",
              "    .dataframe tbody tr th:only-of-type {\n",
              "        vertical-align: middle;\n",
              "    }\n",
              "\n",
              "    .dataframe tbody tr th {\n",
              "        vertical-align: top;\n",
              "    }\n",
              "\n",
              "    .dataframe thead th {\n",
              "        text-align: right;\n",
              "    }\n",
              "</style>\n",
              "<table border=\"1\" class=\"dataframe\">\n",
              "  <thead>\n",
              "    <tr style=\"text-align: right;\">\n",
              "      <th></th>\n",
              "      <th>user_id</th>\n",
              "      <th>isbn</th>\n",
              "      <th>actual_rating</th>\n",
              "      <th>pred_rating</th>\n",
              "      <th>k</th>\n",
              "      <th>impossible</th>\n",
              "      <th>pred_rating_round</th>\n",
              "      <th>abs_err</th>\n",
              "    </tr>\n",
              "  </thead>\n",
              "  <tbody>\n",
              "    <tr>\n",
              "      <th>14376</th>\n",
              "      <td>138602</td>\n",
              "      <td>0812513711</td>\n",
              "      <td>10.0</td>\n",
              "      <td>9.673954</td>\n",
              "      <td>9</td>\n",
              "      <td>False</td>\n",
              "      <td>10.0</td>\n",
              "      <td>0.326046</td>\n",
              "    </tr>\n",
              "    <tr>\n",
              "      <th>1399</th>\n",
              "      <td>8454</td>\n",
              "      <td>0452281784</td>\n",
              "      <td>7.0</td>\n",
              "      <td>8.027026</td>\n",
              "      <td>16</td>\n",
              "      <td>False</td>\n",
              "      <td>8.0</td>\n",
              "      <td>1.027026</td>\n",
              "    </tr>\n",
              "    <tr>\n",
              "      <th>20275</th>\n",
              "      <td>6575</td>\n",
              "      <td>0743227441</td>\n",
              "      <td>7.0</td>\n",
              "      <td>7.739446</td>\n",
              "      <td>45</td>\n",
              "      <td>False</td>\n",
              "      <td>8.0</td>\n",
              "      <td>0.739446</td>\n",
              "    </tr>\n",
              "    <tr>\n",
              "      <th>9789</th>\n",
              "      <td>204864</td>\n",
              "      <td>0671024809</td>\n",
              "      <td>7.0</td>\n",
              "      <td>8.603794</td>\n",
              "      <td>4</td>\n",
              "      <td>False</td>\n",
              "      <td>9.0</td>\n",
              "      <td>1.603794</td>\n",
              "    </tr>\n",
              "    <tr>\n",
              "      <th>2929</th>\n",
              "      <td>154176</td>\n",
              "      <td>0425097722</td>\n",
              "      <td>5.0</td>\n",
              "      <td>7.889724</td>\n",
              "      <td>0</td>\n",
              "      <td>False</td>\n",
              "      <td>8.0</td>\n",
              "      <td>2.889724</td>\n",
              "    </tr>\n",
              "  </tbody>\n",
              "</table>\n",
              "</div>"
            ],
            "text/plain": [
              "       user_id        isbn  ...  pred_rating_round   abs_err\n",
              "14376   138602  0812513711  ...               10.0  0.326046\n",
              "1399      8454  0452281784  ...                8.0  1.027026\n",
              "20275     6575  0743227441  ...                8.0  0.739446\n",
              "9789    204864  0671024809  ...                9.0  1.603794\n",
              "2929    154176  0425097722  ...                8.0  2.889724\n",
              "\n",
              "[5 rows x 8 columns]"
            ]
          },
          "metadata": {
            "tags": []
          },
          "execution_count": 30
        }
      ]
    },
    {
      "cell_type": "markdown",
      "metadata": {
        "id": "g61cPhRbJ3_y"
      },
      "source": [
        "در این قسمت دقت مدل را با به دست آوردن تخمین های درست بر کل به دست می آوریم.\r\n",
        "\r\n",
        "دقت درست در این بخش یعنی تخمین هایی که مدل مان با اختلاف 1.5 واحد به دست آورده است.\r\n",
        "\r\n",
        "مثلا اگر ریت واقعی کاربر 4 بوده، تخمین درست تخمینی در بازه 2.5 تا 5.5 خواهد بود."
      ]
    },
    {
      "cell_type": "code",
      "metadata": {
        "colab": {
          "base_uri": "https://localhost:8080/"
        },
        "id": "VITCa84oN56-",
        "outputId": "bcfce7d2-44a0-420c-f4bd-4ad763f82656"
      },
      "source": [
        "t = len(df_pred[abs(df_pred['actual_rating'] - df_pred['pred_rating']) <= 1.5])\n",
        "print(\"Accuracy:\", t / len(df_pred) * 100)\n",
        "\n"
      ],
      "execution_count": 31,
      "outputs": [
        {
          "output_type": "stream",
          "text": [
            "Accuracy: 71.34992819530876\n"
          ],
          "name": "stdout"
        }
      ]
    },
    {
      "cell_type": "markdown",
      "metadata": {
        "id": "9mOPCKV3Sxr0"
      },
      "source": [
        "در این قسمت باید تابعی برای ارائه پیشنهادات مناسب به کاربر بنویسیم.\r\n",
        "\r\n",
        "در تابع زیر با استفاده از مدلی که آموزش دادیم، با دریافت یک یوزرآی دی، کتاب هایی که تخمین می زنیم کاربر امتیاز بالایی به آنها بدهد را به او پیشنهاد می دهیم."
      ]
    },
    {
      "cell_type": "code",
      "metadata": {
        "colab": {
          "base_uri": "https://localhost:8080/"
        },
        "id": "3w5yw8crjnu3",
        "outputId": "aab364f6-c0fd-4334-8630-dbe1610bbb4d"
      },
      "source": [
        "def recommend_topN(user_id, df_books, n):\n",
        "  df_books = df_books[['isbn']]\n",
        "\n",
        "  df_books.insert(loc=0, column='user_id', value=user_id)\n",
        "  df_books.insert(loc=2, column='rating', value=0)\n",
        "\n",
        "  user_books = list(df_books.itertuples(index=False, name=None))\n",
        "\n",
        "  pred = model.test(user_books)\n",
        "  pred.sort(key=lambda x: x.est, reverse=True)\n",
        "  return pred[0:n]\n",
        "  \n",
        "\n",
        "user_id = 32440\n",
        "n = 5\n",
        "recomended_books = recommend_topN(user_id, df_books, n)\n",
        "recomended_books"
      ],
      "execution_count": 33,
      "outputs": [
        {
          "output_type": "execute_result",
          "data": {
            "text/plain": [
              "[Prediction(uid=32440, iid='0618002235', r_ui=0, est=9.285007204498964, details={'actual_k': 7, 'was_impossible': False}),\n",
              " Prediction(uid=32440, iid='0743454529', r_ui=0, est=9.199277051981488, details={'actual_k': 16, 'was_impossible': False}),\n",
              " Prediction(uid=32440, iid='0811824829', r_ui=0, est=9.19304905684319, details={'actual_k': 5, 'was_impossible': False}),\n",
              " Prediction(uid=32440, iid='0345339738', r_ui=0, est=9.026743028314499, details={'actual_k': 12, 'was_impossible': False}),\n",
              " Prediction(uid=32440, iid='0679732764', r_ui=0, est=9.024090184771717, details={'actual_k': 6, 'was_impossible': False})]"
            ]
          },
          "metadata": {
            "tags": []
          },
          "execution_count": 33
        }
      ]
    },
    {
      "cell_type": "markdown",
      "metadata": {
        "id": "jggHyi3VR9k_"
      },
      "source": [
        "# Content base\r\n",
        "\r\n",
        "در این قسمت  قصد داریم تا به صورت کانتنت بیس و با استفاده از عنوان کتاب ها، مناسب ترین کتاب را به کاربر پیشنهاد بدهیم."
      ]
    },
    {
      "cell_type": "code",
      "metadata": {
        "colab": {
          "base_uri": "https://localhost:8080/",
          "height": 402
        },
        "id": "TLTLnm1tpucW",
        "outputId": "1f8ec878-21d6-4a76-a29d-b174556f6653"
      },
      "source": [
        "ratings_df = pd.read_csv(r'/content/data\\ratings_top.csv')\n",
        "ratings_df"
      ],
      "execution_count": 34,
      "outputs": [
        {
          "output_type": "execute_result",
          "data": {
            "text/html": [
              "<div>\n",
              "<style scoped>\n",
              "    .dataframe tbody tr th:only-of-type {\n",
              "        vertical-align: middle;\n",
              "    }\n",
              "\n",
              "    .dataframe tbody tr th {\n",
              "        vertical-align: top;\n",
              "    }\n",
              "\n",
              "    .dataframe thead th {\n",
              "        text-align: right;\n",
              "    }\n",
              "</style>\n",
              "<table border=\"1\" class=\"dataframe\">\n",
              "  <thead>\n",
              "    <tr style=\"text-align: right;\">\n",
              "      <th></th>\n",
              "      <th>user_id</th>\n",
              "      <th>isbn</th>\n",
              "      <th>book_rating</th>\n",
              "    </tr>\n",
              "  </thead>\n",
              "  <tbody>\n",
              "    <tr>\n",
              "      <th>0</th>\n",
              "      <td>276847</td>\n",
              "      <td>3404148576</td>\n",
              "      <td>8</td>\n",
              "    </tr>\n",
              "    <tr>\n",
              "      <th>1</th>\n",
              "      <td>276847</td>\n",
              "      <td>3423071516</td>\n",
              "      <td>10</td>\n",
              "    </tr>\n",
              "    <tr>\n",
              "      <th>2</th>\n",
              "      <td>276847</td>\n",
              "      <td>3426029553</td>\n",
              "      <td>8</td>\n",
              "    </tr>\n",
              "    <tr>\n",
              "      <th>3</th>\n",
              "      <td>276847</td>\n",
              "      <td>3442437717</td>\n",
              "      <td>7</td>\n",
              "    </tr>\n",
              "    <tr>\n",
              "      <th>4</th>\n",
              "      <td>276847</td>\n",
              "      <td>3442441080</td>\n",
              "      <td>10</td>\n",
              "    </tr>\n",
              "    <tr>\n",
              "      <th>...</th>\n",
              "      <td>...</td>\n",
              "      <td>...</td>\n",
              "      <td>...</td>\n",
              "    </tr>\n",
              "    <tr>\n",
              "      <th>104444</th>\n",
              "      <td>276688</td>\n",
              "      <td>0688156134</td>\n",
              "      <td>8</td>\n",
              "    </tr>\n",
              "    <tr>\n",
              "      <th>104445</th>\n",
              "      <td>276688</td>\n",
              "      <td>0743202694</td>\n",
              "      <td>10</td>\n",
              "    </tr>\n",
              "    <tr>\n",
              "      <th>104446</th>\n",
              "      <td>276688</td>\n",
              "      <td>0836218655</td>\n",
              "      <td>10</td>\n",
              "    </tr>\n",
              "    <tr>\n",
              "      <th>104447</th>\n",
              "      <td>276688</td>\n",
              "      <td>0836236688</td>\n",
              "      <td>10</td>\n",
              "    </tr>\n",
              "    <tr>\n",
              "      <th>104448</th>\n",
              "      <td>276688</td>\n",
              "      <td>1551669315</td>\n",
              "      <td>6</td>\n",
              "    </tr>\n",
              "  </tbody>\n",
              "</table>\n",
              "<p>104449 rows × 3 columns</p>\n",
              "</div>"
            ],
            "text/plain": [
              "        user_id        isbn  book_rating\n",
              "0        276847  3404148576            8\n",
              "1        276847  3423071516           10\n",
              "2        276847  3426029553            8\n",
              "3        276847  3442437717            7\n",
              "4        276847  3442441080           10\n",
              "...         ...         ...          ...\n",
              "104444   276688  0688156134            8\n",
              "104445   276688  0743202694           10\n",
              "104446   276688  0836218655           10\n",
              "104447   276688  0836236688           10\n",
              "104448   276688  1551669315            6\n",
              "\n",
              "[104449 rows x 3 columns]"
            ]
          },
          "metadata": {
            "tags": []
          },
          "execution_count": 34
        }
      ]
    },
    {
      "cell_type": "code",
      "metadata": {
        "colab": {
          "base_uri": "https://localhost:8080/",
          "height": 195
        },
        "id": "JTJ5SB1_pucX",
        "outputId": "71b89310-c320-4447-c6bf-c71a1d748d90"
      },
      "source": [
        "books_df = pd.read_csv(r'/content/data\\books.csv')\n",
        "books_df.head()"
      ],
      "execution_count": 35,
      "outputs": [
        {
          "output_type": "execute_result",
          "data": {
            "text/html": [
              "<div>\n",
              "<style scoped>\n",
              "    .dataframe tbody tr th:only-of-type {\n",
              "        vertical-align: middle;\n",
              "    }\n",
              "\n",
              "    .dataframe tbody tr th {\n",
              "        vertical-align: top;\n",
              "    }\n",
              "\n",
              "    .dataframe thead th {\n",
              "        text-align: right;\n",
              "    }\n",
              "</style>\n",
              "<table border=\"1\" class=\"dataframe\">\n",
              "  <thead>\n",
              "    <tr style=\"text-align: right;\">\n",
              "      <th></th>\n",
              "      <th>isbn</th>\n",
              "      <th>book_title</th>\n",
              "      <th>book_author</th>\n",
              "      <th>year_of_publication</th>\n",
              "      <th>publisher</th>\n",
              "    </tr>\n",
              "  </thead>\n",
              "  <tbody>\n",
              "    <tr>\n",
              "      <th>0</th>\n",
              "      <td>0195153448</td>\n",
              "      <td>Classical Mythology</td>\n",
              "      <td>Mark P. O. Morford</td>\n",
              "      <td>2002</td>\n",
              "      <td>Oxford University Press</td>\n",
              "    </tr>\n",
              "    <tr>\n",
              "      <th>1</th>\n",
              "      <td>0002005018</td>\n",
              "      <td>Clara Callan</td>\n",
              "      <td>Richard Bruce Wright</td>\n",
              "      <td>2001</td>\n",
              "      <td>HarperFlamingo Canada</td>\n",
              "    </tr>\n",
              "    <tr>\n",
              "      <th>2</th>\n",
              "      <td>0060973129</td>\n",
              "      <td>Decision in Normandy</td>\n",
              "      <td>Carlo D'Este</td>\n",
              "      <td>1991</td>\n",
              "      <td>HarperPerennial</td>\n",
              "    </tr>\n",
              "    <tr>\n",
              "      <th>3</th>\n",
              "      <td>0374157065</td>\n",
              "      <td>Flu: The Story of the Great Influenza Pandemic...</td>\n",
              "      <td>Gina Bari Kolata</td>\n",
              "      <td>1999</td>\n",
              "      <td>Farrar Straus Giroux</td>\n",
              "    </tr>\n",
              "    <tr>\n",
              "      <th>4</th>\n",
              "      <td>0393045218</td>\n",
              "      <td>The Mummies of Urumchi</td>\n",
              "      <td>E. J. W. Barber</td>\n",
              "      <td>1999</td>\n",
              "      <td>W. W. Norton &amp;amp; Company</td>\n",
              "    </tr>\n",
              "  </tbody>\n",
              "</table>\n",
              "</div>"
            ],
            "text/plain": [
              "         isbn  ...                   publisher\n",
              "0  0195153448  ...     Oxford University Press\n",
              "1  0002005018  ...       HarperFlamingo Canada\n",
              "2  0060973129  ...             HarperPerennial\n",
              "3  0374157065  ...        Farrar Straus Giroux\n",
              "4  0393045218  ...  W. W. Norton &amp; Company\n",
              "\n",
              "[5 rows x 5 columns]"
            ]
          },
          "metadata": {
            "tags": []
          },
          "execution_count": 35
        }
      ]
    },
    {
      "cell_type": "markdown",
      "metadata": {
        "id": "2dl0h_O4UOFw"
      },
      "source": [
        "در این قسمت کتاب هایی که حداقل یک کاربر به آنها رای داده اند را به دست می آوریم."
      ]
    },
    {
      "cell_type": "code",
      "metadata": {
        "colab": {
          "base_uri": "https://localhost:8080/",
          "height": 195
        },
        "id": "enlrb9DRpucY",
        "outputId": "fa1cec77-b033-409f-eaa8-98d3cbca1398"
      },
      "source": [
        "all_books = ratings_df['isbn'].unique()\r\n",
        "books_df = books_df[books_df['isbn'].isin(all_books)]\r\n",
        "books_df.head(5)"
      ],
      "execution_count": 36,
      "outputs": [
        {
          "output_type": "execute_result",
          "data": {
            "text/html": [
              "<div>\n",
              "<style scoped>\n",
              "    .dataframe tbody tr th:only-of-type {\n",
              "        vertical-align: middle;\n",
              "    }\n",
              "\n",
              "    .dataframe tbody tr th {\n",
              "        vertical-align: top;\n",
              "    }\n",
              "\n",
              "    .dataframe thead th {\n",
              "        text-align: right;\n",
              "    }\n",
              "</style>\n",
              "<table border=\"1\" class=\"dataframe\">\n",
              "  <thead>\n",
              "    <tr style=\"text-align: right;\">\n",
              "      <th></th>\n",
              "      <th>isbn</th>\n",
              "      <th>book_title</th>\n",
              "      <th>book_author</th>\n",
              "      <th>year_of_publication</th>\n",
              "      <th>publisher</th>\n",
              "    </tr>\n",
              "  </thead>\n",
              "  <tbody>\n",
              "    <tr>\n",
              "      <th>1</th>\n",
              "      <td>0002005018</td>\n",
              "      <td>Clara Callan</td>\n",
              "      <td>Richard Bruce Wright</td>\n",
              "      <td>2001</td>\n",
              "      <td>HarperFlamingo Canada</td>\n",
              "    </tr>\n",
              "    <tr>\n",
              "      <th>5</th>\n",
              "      <td>0399135782</td>\n",
              "      <td>The Kitchen God's Wife</td>\n",
              "      <td>Amy Tan</td>\n",
              "      <td>1991</td>\n",
              "      <td>Putnam Pub Group</td>\n",
              "    </tr>\n",
              "    <tr>\n",
              "      <th>18</th>\n",
              "      <td>0440234743</td>\n",
              "      <td>The Testament</td>\n",
              "      <td>John Grisham</td>\n",
              "      <td>1999</td>\n",
              "      <td>Dell</td>\n",
              "    </tr>\n",
              "    <tr>\n",
              "      <th>19</th>\n",
              "      <td>0452264464</td>\n",
              "      <td>Beloved (Plume Contemporary Fiction)</td>\n",
              "      <td>Toni Morrison</td>\n",
              "      <td>1994</td>\n",
              "      <td>Plume</td>\n",
              "    </tr>\n",
              "    <tr>\n",
              "      <th>20</th>\n",
              "      <td>0609804618</td>\n",
              "      <td>Our Dumb Century: The Onion Presents 100 Years...</td>\n",
              "      <td>The Onion</td>\n",
              "      <td>1999</td>\n",
              "      <td>Three Rivers Press</td>\n",
              "    </tr>\n",
              "  </tbody>\n",
              "</table>\n",
              "</div>"
            ],
            "text/plain": [
              "          isbn  ...              publisher\n",
              "1   0002005018  ...  HarperFlamingo Canada\n",
              "5   0399135782  ...       Putnam Pub Group\n",
              "18  0440234743  ...                   Dell\n",
              "19  0452264464  ...                  Plume\n",
              "20  0609804618  ...     Three Rivers Press\n",
              "\n",
              "[5 rows x 5 columns]"
            ]
          },
          "metadata": {
            "tags": []
          },
          "execution_count": 36
        }
      ]
    },
    {
      "cell_type": "markdown",
      "metadata": {
        "id": "bY32KHDHUYaH"
      },
      "source": [
        "با استفاده از کتابخانه اس کا لرن و کلاس تی اف وکتورایز، عناوین کتاب ها را پردازش کرده و ماتریس تی اف آی دی اف را محاسبه می .کنیم"
      ]
    },
    {
      "cell_type": "code",
      "metadata": {
        "id": "UmgeTDx_puca"
      },
      "source": [
        "tf = TfidfVectorizer(analyzer='word', ngram_range=(1, 3), min_df=0, stop_words='english')\r\n",
        "tfidf_matrix = tf.fit_transform(books_df['book_title'])"
      ],
      "execution_count": 37,
      "outputs": []
    },
    {
      "cell_type": "markdown",
      "metadata": {
        "id": "VPHyojdBV8sL"
      },
      "source": [
        "حال شباهت کسینوسی را بر اساس ماتریس به دست آمده از بخش قبل محاسبه می کنیم.\r\n",
        "\r\n",
        "با این کار میزان شباهت هر کتاب نسبت به کتاب های دیگر را خواهیم داشت."
      ]
    },
    {
      "cell_type": "code",
      "metadata": {
        "id": "5ZPeFdgBpuca"
      },
      "source": [
        "cosine_similarities = cosine_similarity(tfidf_matrix,tfidf_matrix)\n"
      ],
      "execution_count": 38,
      "outputs": []
    },
    {
      "cell_type": "markdown",
      "metadata": {
        "id": "qwowZrwpWQAr"
      },
      "source": [
        "به دلیل به هم ریختگی ترتیب ایندکس ها، آن را ریست می کنیم تا شمارش از 1 و به صورت مرتب شود."
      ]
    },
    {
      "cell_type": "code",
      "metadata": {
        "colab": {
          "base_uri": "https://localhost:8080/",
          "height": 225
        },
        "id": "sRop0U6wpucc",
        "outputId": "51f89acc-82b0-49d4-c916-4f3d97663e03"
      },
      "source": [
        "books_df.reset_index(drop=True, inplace=True)\n",
        "books_df[books_df['book_title'].str.contains(\"Dummie\")]"
      ],
      "execution_count": 39,
      "outputs": [
        {
          "output_type": "execute_result",
          "data": {
            "text/html": [
              "<div>\n",
              "<style scoped>\n",
              "    .dataframe tbody tr th:only-of-type {\n",
              "        vertical-align: middle;\n",
              "    }\n",
              "\n",
              "    .dataframe tbody tr th {\n",
              "        vertical-align: top;\n",
              "    }\n",
              "\n",
              "    .dataframe thead th {\n",
              "        text-align: right;\n",
              "    }\n",
              "</style>\n",
              "<table border=\"1\" class=\"dataframe\">\n",
              "  <thead>\n",
              "    <tr style=\"text-align: right;\">\n",
              "      <th></th>\n",
              "      <th>isbn</th>\n",
              "      <th>book_title</th>\n",
              "      <th>book_author</th>\n",
              "      <th>year_of_publication</th>\n",
              "      <th>publisher</th>\n",
              "    </tr>\n",
              "  </thead>\n",
              "  <tbody>\n",
              "    <tr>\n",
              "      <th>3736</th>\n",
              "      <td>1568846444</td>\n",
              "      <td>Gardening for Dummies</td>\n",
              "      <td>Michael MacCaskey</td>\n",
              "      <td>1996</td>\n",
              "      <td>John Wiley &amp;amp; Sons</td>\n",
              "    </tr>\n",
              "    <tr>\n",
              "      <th>4256</th>\n",
              "      <td>0836220498</td>\n",
              "      <td>Night Of Crash-Test Dummies</td>\n",
              "      <td>Gary Larson</td>\n",
              "      <td>1988</td>\n",
              "      <td>Andrews McMeel Publishing</td>\n",
              "    </tr>\n",
              "    <tr>\n",
              "      <th>4480</th>\n",
              "      <td>076455168X</td>\n",
              "      <td>Weight Training for Dummies</td>\n",
              "      <td>Liz  Neporent</td>\n",
              "      <td>2000</td>\n",
              "      <td>For Dummies</td>\n",
              "    </tr>\n",
              "    <tr>\n",
              "      <th>4987</th>\n",
              "      <td>0764550039</td>\n",
              "      <td>Chess for Dummies</td>\n",
              "      <td>James  Eade</td>\n",
              "      <td>1996</td>\n",
              "      <td>For Dummies</td>\n",
              "    </tr>\n",
              "    <tr>\n",
              "      <th>11766</th>\n",
              "      <td>0764551302</td>\n",
              "      <td>Gardening for Dummies</td>\n",
              "      <td>Mike  MacCaskey</td>\n",
              "      <td>1999</td>\n",
              "      <td>For Dummies</td>\n",
              "    </tr>\n",
              "    <tr>\n",
              "      <th>12089</th>\n",
              "      <td>0764503545</td>\n",
              "      <td>The Internet for Dummies, Fifth Edition</td>\n",
              "      <td>John R. Levine</td>\n",
              "      <td>1998</td>\n",
              "      <td>John Wiley &amp;amp; Sons Inc</td>\n",
              "    </tr>\n",
              "  </tbody>\n",
              "</table>\n",
              "</div>"
            ],
            "text/plain": [
              "             isbn  ...                  publisher\n",
              "3736   1568846444  ...      John Wiley &amp; Sons\n",
              "4256   0836220498  ...  Andrews McMeel Publishing\n",
              "4480   076455168X  ...                For Dummies\n",
              "4987   0764550039  ...                For Dummies\n",
              "11766  0764551302  ...                For Dummies\n",
              "12089  0764503545  ...  John Wiley &amp; Sons Inc\n",
              "\n",
              "[6 rows x 5 columns]"
            ]
          },
          "metadata": {
            "tags": []
          },
          "execution_count": 39
        }
      ]
    },
    {
      "cell_type": "markdown",
      "metadata": {
        "id": "A2DzutA-W4bF"
      },
      "source": [
        "در این قسمت حلقه ای برای پیمایش روی کتاب ها داریم.\r\n",
        "\r\n",
        "در هر پیمایش و به ازای هر کتاب، با استفاده از شباهت کسینوسی کتاب ها که در بخش قبل به دست آوردیم، تمام کتاب های مشابه به ازای هر کتاب را به دست آورده و بر اساس شباهت مرتب شان می کنیم.\r\n",
        "\r\n",
        "از لیست به دست آمده، آی اس بی ان 5 کتاب اول که بیشترین شباهت را به کتاب مورد پیمایش دارند را به دست می آوریم.\r\n",
        "\r\n",
        "در ادامه و با استفاده از این آی اس بی ان ها، اطلاعات این کتاب ها را به دست آورده و در لیست ریزالت ذخیره می کنیم.\r\n",
        "\r\n",
        "بنابراین در لیست ریزالت، به ازای هر کتاب، 5 کتابی که بیشترین شباهت را به آن دارند، ذخیره کردیم."
      ]
    },
    {
      "cell_type": "code",
      "metadata": {
        "id": "bEZsJ8oepucc"
      },
      "source": [
        "num = 12\n",
        "results = {}\n",
        "for idx, row in books_df.iterrows():\n",
        "    similar_indices = cosine_similarities[idx].argsort()[:-2-num:-1]\n",
        "    similar_items = [(cosine_similarities[idx][i], books_df['isbn'][i]) for i in similar_indices]\n",
        "    results[row['isbn']] = similar_items[1:]"
      ],
      "execution_count": 40,
      "outputs": []
    },
    {
      "cell_type": "markdown",
      "metadata": {
        "id": "EaHjqUIrYEO_"
      },
      "source": [
        "در این تابع با دریافت آی اس بی ان یک کتاب، اطلاعات آن را به عنوان خروجی برمی گردانیم."
      ]
    },
    {
      "cell_type": "code",
      "metadata": {
        "id": "025JbUxGpucd"
      },
      "source": [
        "def item(id):\n",
        "    return books_df.loc[books_df['isbn'] == id]['book_title'].tolist()[0]"
      ],
      "execution_count": 41,
      "outputs": []
    },
    {
      "cell_type": "markdown",
      "metadata": {
        "id": "-SLNMzGQYMwM"
      },
      "source": [
        "در این بخش با دریافت آی اس بی ان یک کتاب، به تعداد عدد ورودی، مشابه ترین کتاب ها را پیشنهاد می کنیم.\r\n",
        "با سورت نتیجه مشابهت کسینوسی، مشابه ترین کتاب ها با کتاب مورد نظر را پیدا می کنیم\r\n"
      ]
    },
    {
      "cell_type": "code",
      "metadata": {
        "id": "DklWVSs-pucd"
      },
      "source": [
        "def recommend(id, num, pr = True):\n",
        "  if (num == 0):\n",
        "      if pr:\n",
        "        print(\"Unable to recommend any book as you have not chosen the number of book to be recommended\")\n",
        "  elif (num==1):\n",
        "    if pr:\n",
        "      print(\"Recommending \" + str(num) + \" book similar to \" + item(id))\n",
        "  else :\n",
        "    if pr:\n",
        "      print(\"Recommending \" + str(num) + \" books similar to \" + item(id))\n",
        "  if pr: \n",
        "    print(\"----------------------------------------------------------\")\n",
        "\n",
        "  # پیدا کردن نزدیک ترین کتاب ها به کتاب مورد نظر\n",
        "  recs = results[id][:num]\n",
        "  for rec in recs:\n",
        "    if pr:\n",
        "      print(\"You may also like to read: \" + item(rec[1]) + \" (score:\" + str(rec[0]) + \")\")\n",
        "  return recs"
      ],
      "execution_count": 42,
      "outputs": []
    },
    {
      "cell_type": "markdown",
      "metadata": {
        "id": "t20j5m0wYey-"
      },
      "source": [
        "در این قسمت برای کتابی با آی اس بی ان 0373765738، 5 کتاب مشابه را پیشنهاد می دهیم."
      ]
    },
    {
      "cell_type": "code",
      "metadata": {
        "colab": {
          "base_uri": "https://localhost:8080/"
        },
        "id": "I9fHQNunpuce",
        "outputId": "127a4091-ef6b-4d52-8a07-c34efbcbdbae"
      },
      "source": [
        "book_res = recommend('1568846444',num)"
      ],
      "execution_count": 43,
      "outputs": [
        {
          "output_type": "stream",
          "text": [
            "Recommending 12 books similar to Gardening for Dummies\n",
            "----------------------------------------------------------\n",
            "You may also like to read: Gardening for Dummies (score:1.0000000000000004)\n",
            "You may also like to read: Chess for Dummies (score:0.2972322667224442)\n",
            "You may also like to read: Weight Training for Dummies (score:0.2128792202588689)\n",
            "You may also like to read: Square Foot Gardening (score:0.21053923529126084)\n",
            "You may also like to read: Night Of Crash-Test Dummies (score:0.17801895749981303)\n",
            "You may also like to read: The Internet for Dummies, Fifth Edition (score:0.17599907376127127)\n",
            "You may also like to read: Rodale's Successful Organic Gardening: Perennials (Rodale's successful organic gardening) (score:0.15382152564171667)\n",
            "You may also like to read: Llewellyn's 2001 Moon Sign Book and Gardening Almanac (score:0.12510516191093993)\n",
            "You may also like to read: Taylor's Guide to Roses (Taylor's Guides to Gardening) (score:0.12319028791401043)\n",
            "You may also like to read: Death Match : A Novel (Child, Lincoln) (score:0.0)\n",
            "You may also like to read: A Lesson Before Dying (score:0.0)\n",
            "You may also like to read: Private Parts (score:0.0)\n"
          ],
          "name": "stdout"
        }
      ]
    },
    {
      "cell_type": "markdown",
      "metadata": {
        "id": "5yXcIfgObNph"
      },
      "source": [
        "در این تابع با دریافت یک یوزرآی دی، ابتدا کتاب هایی که این کاربر به آنها رای داده است را پیدا می کنیم.\r\n",
        "\r\n",
        "سپس این لیست را بر اساس میزان رای کاربر مرتب می کنیم.\r\n",
        "\r\n",
        "حال 4 کتابی که بیشترین رای را از کاربر گرفته را جدا می کنیم.\r\n",
        "\r\n",
        "در ادامه به ازای هر کدام از این 4 کتاب، 4 کتابی که از نظر شباهت عناوین بیشترین شباهت را به آنها دارد به لیست پیشنهادی اضافه کرده و آن را به عنوان نتیجه بر میگردانیم."
      ]
    },
    {
      "cell_type": "code",
      "metadata": {
        "id": "v-5QOraupuce"
      },
      "source": [
        "def recommend_base_on_user(user_id, n, ratings_df = ratings_df, pr=False):\n",
        "    u_ratings = ratings_df[ratings_df['user_id']==user_id]\n",
        "    most_freq_books = u_ratings.sort_values(by=['book_rating']).isbn[:int(math.sqrt(n))]\n",
        "    recommends = []\n",
        "    for freq_book in most_freq_books:\n",
        "        recommends.extend(recommend(freq_book,int(math.sqrt(n)), pr))\n",
        "    return recommends"
      ],
      "execution_count": 113,
      "outputs": []
    },
    {
      "cell_type": "markdown",
      "metadata": {
        "id": "dytWHVVBb79b"
      },
      "source": [
        "مثلا در این قسمت ، برای کاربری با یوزرآی دی 60419، 10 کتاب پیشنهاد می دهیم."
      ]
    },
    {
      "cell_type": "code",
      "metadata": {
        "id": "cMBeKDBbpucf"
      },
      "source": [
        "user_res = recommend_base_on_user(60419, 10)\r\n",
        "# user_res"
      ],
      "execution_count": 114,
      "outputs": []
    },
    {
      "cell_type": "markdown",
      "metadata": {
        "id": "Mp7nUuS3g5WX"
      },
      "source": [
        "# حالت ترکیبی\r\n",
        "در این قسمت قصد داریم تا سیستم پیشنهاد دهنده کولبریتیوفیلترینگ مان را با بخش کانتنت بیس ادغام کنیم.\r\n",
        "\r\n",
        "برای اینکار ابتدا از سیستم کانتنت بیس مان مجموعه ای از کتاب ها برای یک کاربر خاص دریافت می کنیم.\r\n",
        "\r\n",
        "حال این لیست را به همراه یوزر آی دی عنوان ورودی به سیستم کولبریتیوفیترینگ مان می دهیم.\r\n",
        "\r\n",
        "بنابراین سیستم پیشنهاد دهنده مبتنی بر کولبریتینگ فیلترینگ مان از بین لیست کتاب های آمده از بخش کانتنت بیس و بر اساس کاربر ورودی، تخمین میزند که این کاربر به هر کدام از این کتاب ها چه امتیازی می دهد و بعد از آن، بالاترین آن ها را به عنوان خروجی برمی گرداند."
      ]
    },
    {
      "cell_type": "code",
      "metadata": {
        "colab": {
          "base_uri": "https://localhost:8080/"
        },
        "id": "qYzzq7evpucf",
        "outputId": "4d65a994-f800-4e11-ff09-a7847d07a987"
      },
      "source": [
        "def hybrid_recommend(user_id, n,ratings_df = ratings_df, pr=True):\n",
        "  content_base_result = recommend_base_on_user(user_id, n*5,ratings_df , pr)\n",
        "  content_base_result_df = pd.DataFrame(content_base_result, columns=['similarity', 'isbn'])\n",
        "\n",
        "  colab_filt_result = recommend_topN(user_id, content_base_result_df, n)\n",
        "  return colab_filt_result\n",
        "\n",
        "hybrid_recommend(60419, 10)"
      ],
      "execution_count": 104,
      "outputs": [
        {
          "output_type": "stream",
          "text": [
            "       user_id        isbn  book_rating\n",
            "24492    60419  0156838389           10\n",
            "24493    60419  0226469409           10\n",
            "24494    60419  0394740181           10\n",
            "24495    60419  0679727590           10\n",
            "24496    60419  1568846444           10\n",
            "Recommending 7 books similar to Sophocles, The Oedipus Cycle: Oedipus Rex, Oedipus at Colonus, Antigone\n",
            "----------------------------------------------------------\n",
            "You may also like to read: Casual Rex: A Novel (score:0.0756105358468622)\n",
            "You may also like to read: Spin Cycle (score:0.07546851593875303)\n",
            "You may also like to read: Cycle Of The Werewolf (score:0.07345641132822019)\n",
            "You may also like to read: Antigone (Dover Thrift Editions) (score:0.07093626499005683)\n",
            "You may also like to read: Antigone (French Language Edition) (score:0.062457838009252704)\n",
            "You may also like to read: Anonymous Rex: A Detective Story (score:0.06072974944794644)\n",
            "You may also like to read: Taliesin : Book One of the Pendragon Cycle (Pendragon Cycle) (score:0.05750384026665022)\n",
            "Recommending 7 books similar to The Iliad of Homer\n",
            "----------------------------------------------------------\n",
            "You may also like to read: The Iliad (Penguin Classics) (score:0.2743114416920747)\n",
            "You may also like to read: The Simpsons and Philosophy: The D'oh! of Homer (score:0.19072243106423875)\n",
            "You may also like to read: The Weirdstone of Brisingamen (score:0.0)\n",
            "You may also like to read: The Girl Who Cried Monster (Goosebumps, No 8) (score:0.0)\n",
            "You may also like to read: The Cat Who Played Post Office (Cat Who... (Paperback)) (score:0.0)\n",
            "You may also like to read: Starship Titanic (score:0.0)\n",
            "You may also like to read: The Cat Who Went into the Closet (score:0.0)\n",
            "Recommending 7 books similar to American Indian Myths and Legends (Pantheon Fairy Tale and Folklore Library)\n",
            "----------------------------------------------------------\n",
            "You may also like to read: The Complete Grimm's Fairy Tales (Pantheon Fairy Tale and Folklore Library) (score:0.5005319499813206)\n",
            "You may also like to read: Tam Lin (The Fairy Tale Series) (score:0.1325733039909774)\n",
            "You may also like to read: The Magical Worlds of Harry Potter: A Treasury of Myths, Legends, and Fascinating Facts (score:0.1158685222495431)\n",
            "You may also like to read: The Secret of the Indian (Indian in the Cupboard) (score:0.10081128620716205)\n",
            "You may also like to read: The Return of the Indian (Indian in the Cupboard) (score:0.10000673166821507)\n",
            "You may also like to read: The Indian in the Cupboard (score:0.09848629056104684)\n",
            "You may also like to read: When the Legends Die (score:0.09552518591956273)\n",
            "Recommending 7 books similar to The Big Book of Hell: A Cartoon Book\n",
            "----------------------------------------------------------\n",
            "You may also like to read: Nobody's Hell (score:0.2597225309995566)\n",
            "You may also like to read: Book (score:0.25851219745034326)\n",
            "You may also like to read: The Big U (score:0.217302337199182)\n",
            "You may also like to read: The Big Four (score:0.217302337199182)\n",
            "You may also like to read: Hell House (score:0.1488944145103311)\n",
            "You may also like to read: Work Is Hell (score:0.14079028662408535)\n",
            "You may also like to read: Hell's Kitchen (score:0.1385587370418456)\n",
            "Recommending 7 books similar to Gardening for Dummies\n",
            "----------------------------------------------------------\n",
            "You may also like to read: Gardening for Dummies (score:1.0000000000000004)\n",
            "You may also like to read: Chess for Dummies (score:0.2972322667224442)\n",
            "You may also like to read: Weight Training for Dummies (score:0.2128792202588689)\n",
            "You may also like to read: Square Foot Gardening (score:0.21053923529126084)\n",
            "You may also like to read: Night Of Crash-Test Dummies (score:0.17801895749981303)\n",
            "You may also like to read: The Internet for Dummies, Fifth Edition (score:0.17599907376127127)\n",
            "You may also like to read: Rodale's Successful Organic Gardening: Perennials (Rodale's successful organic gardening) (score:0.15382152564171667)\n"
          ],
          "name": "stdout"
        },
        {
          "output_type": "execute_result",
          "data": {
            "text/plain": [
              "[Prediction(uid=60419, iid='0836220498', r_ui=0, est=8.756370742153088, details={'actual_k': 0, 'was_impossible': False}),\n",
              " Prediction(uid=60419, iid='0140275363', r_ui=0, est=8.68230165874759, details={'actual_k': 0, 'was_impossible': False}),\n",
              " Prediction(uid=60419, iid='0878573410', r_ui=0, est=8.625146624435809, details={'actual_k': 0, 'was_impossible': False}),\n",
              " Prediction(uid=60419, iid='0486278042', r_ui=0, est=8.532464502684407, details={'actual_k': 0, 'was_impossible': False}),\n",
              " Prediction(uid=60419, iid='0394748646', r_ui=0, est=8.515312479308946, details={'actual_k': 0, 'was_impossible': False}),\n",
              " Prediction(uid=60419, iid='1882413601', r_ui=0, est=8.439966203872384, details={'actual_k': 1, 'was_impossible': False}),\n",
              " Prediction(uid=60419, iid='0812544501', r_ui=0, est=8.432371447381893, details={'actual_k': 0, 'was_impossible': False}),\n",
              " Prediction(uid=60419, iid='0553257382', r_ui=0, est=8.38969237682841, details={'actual_k': 0, 'was_impossible': False}),\n",
              " Prediction(uid=60419, iid='0375503269', r_ui=0, est=8.388620735693898, details={'actual_k': 0, 'was_impossible': False}),\n",
              " Prediction(uid=60419, iid='0345368436', r_ui=0, est=8.384733199891913, details={'actual_k': 0, 'was_impossible': False})]"
            ]
          },
          "metadata": {
            "tags": []
          },
          "execution_count": 104
        }
      ]
    },
    {
      "cell_type": "markdown",
      "metadata": {
        "id": "kj7oLD_PiQbI"
      },
      "source": [
        "# ارزیابی"
      ]
    },
    {
      "cell_type": "markdown",
      "metadata": {
        "id": "S8S90TmUdOm4"
      },
      "source": [
        "در این بخش سه روش پالایش همکارانه، روش مبتنی بر محتوا و حالت ترکیب این دو روش را مقایسه می کنیم.\r\n",
        "\r\n",
        "ابتدا کاربرانی که حداقل ۱۰۰ امتیاز در مجموعه تست دارند را جدا می کنیم. تا اطلاعات کافی برای شبیه سازی اطلاعات زمان آینده که آن کاربر امتیازی برای آن کتاب ثبت کرده استُ داشته باشیم."
      ]
    },
    {
      "cell_type": "code",
      "metadata": {
        "id": "OoWaTFsMe6Pn"
      },
      "source": [
        "testset_df = pd.DataFrame(testset, columns=['user_id', 'isbn', 'actual_rate'])\r\n",
        "\r\n",
        "rate_counts = testset_df['user_id'].value_counts()\r\n",
        "filter_rate_counts = rate_counts[rate_counts >= 100].index.to_list()\r\n",
        "\r\n",
        "testset_df = testset_df[testset_df['user_id'].isin(filter_rate_counts)]\r\n",
        "testset_df.reset_index(drop=True, inplace=True)\r\n"
      ],
      "execution_count": 48,
      "outputs": []
    },
    {
      "cell_type": "code",
      "metadata": {
        "id": "6TLCSMU9mCZA"
      },
      "source": [
        "users_of_testset = testset_df['user_id'].to_list()"
      ],
      "execution_count": 49,
      "outputs": []
    },
    {
      "cell_type": "code",
      "metadata": {
        "id": "FEJueg-FS7Ld"
      },
      "source": [
        "test_books = df_books[df_books['isbn'].isin(testset_df['isbn'])]\r\n",
        "test_set_renamed = testset_df.rename(columns={'actual_rate': 'book_rating'})"
      ],
      "execution_count": 96,
      "outputs": []
    },
    {
      "cell_type": "markdown",
      "metadata": {
        "id": "Pxo9vUBkg4cP"
      },
      "source": [
        "در تابع ارزیابی با توجه به روش داده  شده در آرگومان تابع مشخص می کنیم که از کدام روش پیشنهاد دهی استفاده کنیم.\r\n",
        "\r\n",
        "سپس بررسی میکنیم که این حدود امتیازی که کاربر به کتاب های مختلف داده است چه مقدار است. 0.4 بالایی آن را محاسبه میکنیم.\r\n",
        "اگر کاربر رای بالاتر از این مقدار برای کتابی ثبت کرده باشد به این معنا است که نسبت به کتاب های دیگر ، علاقه بیشتری به این کتاب داشته است.\r\n",
        "از همین روش استفاده میکنیم تا تعدا کل کتاب های مورد علاقه کاربر در مجموعه تست را به دست آوریم.\r\n",
        "سپس تعداد کتاب های پیشنهادی را محاسبه میکنیم\r\n",
        "\r\n",
        "برای محاسبه فراخوانی تعداد کتاب هایی که پیشنهاد داده ایم و مورد علاقه کاربر هستند را بر تعداد کل پیشنهادات ممکن که در مجموعه تست وجود دارند تقسیم می کنیم.\r\n",
        "\r\n",
        "برای محاسبه دقت تعداد پیشنهادات صحیح سیستم که مورد علاقه کاربر هستند را بر تعداد کل پیشنهاداتی که سیستم داده است و ممکن است صحیح یا غلط باشند، تقسیم میکنیم."
      ]
    },
    {
      "cell_type": "code",
      "metadata": {
        "id": "E7vvqAxJpuci"
      },
      "source": [
        "def evaluate(recommendType):\r\n",
        "  recalls = []\r\n",
        "  precisions = []\r\n",
        "  i=0\r\n",
        "  usersCount = len(users_of_testset)\r\n",
        "  for user in users_of_testset:\r\n",
        "    i+=1\r\n",
        "    if i%10 == 0:\r\n",
        "      print(i/usersCount)\r\n",
        "    if recommendType == 1: # colab filter\r\n",
        "      recom = recommend_topN(user, test_books, 30)\r\n",
        "      recom_df = pd.DataFrame(recom, columns=['user_id', 'isbn', 'r_ui', 'estimate', 'details'])\r\n",
        "    elif recommendType == 2: #content base\r\n",
        "      recom = recommend_base_on_user(user, 30, test_set_renamed, False)\r\n",
        "      recom_df = pd.DataFrame(recom, columns=['user_id','isbn'])\r\n",
        "    elif recommendType == 3: # hybrid\r\n",
        "      recom = hybrid_recommend(user, 30,test_set_renamed, False)\r\n",
        "      recom_df = pd.DataFrame(recom, columns=['user_id', 'isbn', 'r_ui', 'estimate', 'details'])\r\n",
        "\r\n",
        "\r\n",
        "\r\n",
        "    quantile_of_user_rates = testset_df[testset_df['user_id'] == user]['actual_rate'].quantile(.6)\r\n",
        "\r\n",
        "    user_books_in_test = testset_df[(testset_df['user_id'] == user) &\r\n",
        "                                    (testset_df['isbn'].isin(recom_df['isbn'])) &\r\n",
        "                                    (testset_df['actual_rate'] >= quantile_of_user_rates)]\r\n",
        "    user_books_in_recom = recom_df[recom_df['isbn'].isin(user_books_in_test['isbn'])]\r\n",
        "\r\n",
        "    del user_books_in_recom['user_id']\r\n",
        "\r\n",
        "    user_books_in_test = user_books_in_test.set_index('isbn')\r\n",
        "    user_books_in_recom = user_books_in_recom.set_index('isbn')\r\n",
        "    user_books_in_recom = user_books_in_recom.join(user_books_in_test)\r\n",
        "\r\n",
        "    top_rated_user_books = testset_df[(testset_df['user_id'] == user) & (testset_df['actual_rate'] >= quantile_of_user_rates)]\r\n",
        "\r\n",
        "    recall = len(user_books_in_recom) / len(top_rated_user_books)\r\n",
        "    precision = len(user_books_in_recom) / len(recom_df)\r\n",
        "    \r\n",
        "    recalls.append(recall)\r\n",
        "    precisions.append(precision)\r\n",
        "\r\n",
        "  # print(\"recall:\", np.mean(recalls))\r\n",
        "  # print(\"precision:\",np.mean(precisions))\r\n",
        "  return np.mean(recalls), np.mean(precisions)\r\n"
      ],
      "execution_count": 128,
      "outputs": []
    },
    {
      "cell_type": "code",
      "metadata": {
        "colab": {
          "base_uri": "https://localhost:8080/"
        },
        "id": "F_xGTVz0Ft8i",
        "outputId": "8498ca91-4426-47df-89d0-729a384533fc"
      },
      "source": [
        "recall_colab, precision_colab = evaluate(1)\r\n",
        "recall_content, precision_content = evaluate(2)\r\n",
        "recall_hybrid, precision_hybrid = evaluate(3)\r\n",
        "\r\n",
        "print(\"collaborative filtering result:  recall=\",recall_colab, \"precision=\" ,precision_colab)\r\n",
        "print(\"content based filtering result:  recall=\",recall_content, \"precision=\" ,precision_content)\r\n",
        "print(\"Hybrid filtering result:  recall=\",recall_hybrid, \"precision=\" ,precision_hybrid)"
      ],
      "execution_count": 129,
      "outputs": [
        {
          "output_type": "stream",
          "text": [
            "0.01107419712070875\n",
            "0.0221483942414175\n",
            "0.03322259136212625\n",
            "0.044296788482835\n",
            "0.05537098560354374\n",
            "0.0664451827242525\n",
            "0.07751937984496124\n",
            "0.08859357696567\n",
            "0.09966777408637874\n",
            "0.11074197120708748\n",
            "0.12181616832779624\n",
            "0.132890365448505\n",
            "0.14396456256921372\n",
            "0.15503875968992248\n",
            "0.16611295681063123\n",
            "0.17718715393134\n",
            "0.18826135105204872\n",
            "0.19933554817275748\n",
            "0.21040974529346623\n",
            "0.22148394241417496\n",
            "0.23255813953488372\n",
            "0.24363233665559247\n",
            "0.2547065337763012\n",
            "0.26578073089701\n",
            "0.2768549280177187\n",
            "0.28792912513842744\n",
            "0.29900332225913623\n",
            "0.31007751937984496\n",
            "0.3211517165005537\n",
            "0.33222591362126247\n",
            "0.3433001107419712\n",
            "0.35437430786268\n",
            "0.3654485049833887\n",
            "0.37652270210409744\n",
            "0.3875968992248062\n",
            "0.39867109634551495\n",
            "0.4097452934662237\n",
            "0.42081949058693247\n",
            "0.4318936877076412\n",
            "0.4429678848283499\n",
            "0.4540420819490587\n",
            "0.46511627906976744\n",
            "0.47619047619047616\n",
            "0.48726467331118495\n",
            "0.4983388704318937\n",
            "0.5094130675526024\n",
            "0.5204872646733112\n",
            "0.53156146179402\n",
            "0.5426356589147286\n",
            "0.5537098560354374\n",
            "0.5647840531561462\n",
            "0.5758582502768549\n",
            "0.5869324473975637\n",
            "0.5980066445182725\n",
            "0.6090808416389811\n",
            "0.6201550387596899\n",
            "0.6312292358803987\n",
            "0.6423034330011074\n",
            "0.6533776301218162\n",
            "0.6644518272425249\n",
            "0.6755260243632336\n",
            "0.6866002214839424\n",
            "0.6976744186046512\n",
            "0.70874861572536\n",
            "0.7198228128460686\n",
            "0.7308970099667774\n",
            "0.7419712070874862\n",
            "0.7530454042081949\n",
            "0.7641196013289037\n",
            "0.7751937984496124\n",
            "0.7862679955703211\n",
            "0.7973421926910299\n",
            "0.8084163898117387\n",
            "0.8194905869324474\n",
            "0.8305647840531561\n",
            "0.8416389811738649\n",
            "0.8527131782945736\n",
            "0.8637873754152824\n",
            "0.8748615725359912\n",
            "0.8859357696566998\n",
            "0.8970099667774086\n",
            "0.9080841638981174\n",
            "0.9191583610188261\n",
            "0.9302325581395349\n",
            "0.9413067552602437\n",
            "0.9523809523809523\n",
            "0.9634551495016611\n",
            "0.9745293466223699\n",
            "0.9856035437430787\n",
            "0.9966777408637874\n",
            "0.01107419712070875\n",
            "0.0221483942414175\n",
            "0.03322259136212625\n",
            "0.044296788482835\n",
            "0.05537098560354374\n",
            "0.0664451827242525\n",
            "0.07751937984496124\n",
            "0.08859357696567\n",
            "0.09966777408637874\n",
            "0.11074197120708748\n",
            "0.12181616832779624\n",
            "0.132890365448505\n",
            "0.14396456256921372\n",
            "0.15503875968992248\n",
            "0.16611295681063123\n",
            "0.17718715393134\n",
            "0.18826135105204872\n",
            "0.19933554817275748\n",
            "0.21040974529346623\n",
            "0.22148394241417496\n",
            "0.23255813953488372\n",
            "0.24363233665559247\n",
            "0.2547065337763012\n",
            "0.26578073089701\n",
            "0.2768549280177187\n",
            "0.28792912513842744\n",
            "0.29900332225913623\n",
            "0.31007751937984496\n",
            "0.3211517165005537\n",
            "0.33222591362126247\n",
            "0.3433001107419712\n",
            "0.35437430786268\n",
            "0.3654485049833887\n",
            "0.37652270210409744\n",
            "0.3875968992248062\n",
            "0.39867109634551495\n",
            "0.4097452934662237\n",
            "0.42081949058693247\n",
            "0.4318936877076412\n",
            "0.4429678848283499\n",
            "0.4540420819490587\n",
            "0.46511627906976744\n",
            "0.47619047619047616\n",
            "0.48726467331118495\n",
            "0.4983388704318937\n",
            "0.5094130675526024\n",
            "0.5204872646733112\n",
            "0.53156146179402\n",
            "0.5426356589147286\n",
            "0.5537098560354374\n",
            "0.5647840531561462\n",
            "0.5758582502768549\n",
            "0.5869324473975637\n",
            "0.5980066445182725\n",
            "0.6090808416389811\n",
            "0.6201550387596899\n",
            "0.6312292358803987\n",
            "0.6423034330011074\n",
            "0.6533776301218162\n",
            "0.6644518272425249\n",
            "0.6755260243632336\n",
            "0.6866002214839424\n",
            "0.6976744186046512\n",
            "0.70874861572536\n",
            "0.7198228128460686\n",
            "0.7308970099667774\n",
            "0.7419712070874862\n",
            "0.7530454042081949\n",
            "0.7641196013289037\n",
            "0.7751937984496124\n",
            "0.7862679955703211\n",
            "0.7973421926910299\n",
            "0.8084163898117387\n",
            "0.8194905869324474\n",
            "0.8305647840531561\n",
            "0.8416389811738649\n",
            "0.8527131782945736\n",
            "0.8637873754152824\n",
            "0.8748615725359912\n",
            "0.8859357696566998\n",
            "0.8970099667774086\n",
            "0.9080841638981174\n",
            "0.9191583610188261\n",
            "0.9302325581395349\n",
            "0.9413067552602437\n",
            "0.9523809523809523\n",
            "0.9634551495016611\n",
            "0.9745293466223699\n",
            "0.9856035437430787\n",
            "0.9966777408637874\n",
            "0.01107419712070875\n",
            "0.0221483942414175\n",
            "0.03322259136212625\n",
            "0.044296788482835\n",
            "0.05537098560354374\n",
            "0.0664451827242525\n",
            "0.07751937984496124\n",
            "0.08859357696567\n",
            "0.09966777408637874\n",
            "0.11074197120708748\n",
            "0.12181616832779624\n",
            "0.132890365448505\n",
            "0.14396456256921372\n",
            "0.15503875968992248\n",
            "0.16611295681063123\n",
            "0.17718715393134\n",
            "0.18826135105204872\n",
            "0.19933554817275748\n",
            "0.21040974529346623\n",
            "0.22148394241417496\n",
            "0.23255813953488372\n",
            "0.24363233665559247\n",
            "0.2547065337763012\n",
            "0.26578073089701\n",
            "0.2768549280177187\n",
            "0.28792912513842744\n",
            "0.29900332225913623\n",
            "0.31007751937984496\n",
            "0.3211517165005537\n",
            "0.33222591362126247\n",
            "0.3433001107419712\n",
            "0.35437430786268\n",
            "0.3654485049833887\n",
            "0.37652270210409744\n",
            "0.3875968992248062\n",
            "0.39867109634551495\n",
            "0.4097452934662237\n",
            "0.42081949058693247\n",
            "0.4318936877076412\n",
            "0.4429678848283499\n",
            "0.4540420819490587\n",
            "0.46511627906976744\n",
            "0.47619047619047616\n",
            "0.48726467331118495\n",
            "0.4983388704318937\n",
            "0.5094130675526024\n",
            "0.5204872646733112\n",
            "0.53156146179402\n",
            "0.5426356589147286\n",
            "0.5537098560354374\n",
            "0.5647840531561462\n",
            "0.5758582502768549\n",
            "0.5869324473975637\n",
            "0.5980066445182725\n",
            "0.6090808416389811\n",
            "0.6201550387596899\n",
            "0.6312292358803987\n",
            "0.6423034330011074\n",
            "0.6533776301218162\n",
            "0.6644518272425249\n",
            "0.6755260243632336\n",
            "0.6866002214839424\n",
            "0.6976744186046512\n",
            "0.70874861572536\n",
            "0.7198228128460686\n",
            "0.7308970099667774\n",
            "0.7419712070874862\n",
            "0.7530454042081949\n",
            "0.7641196013289037\n",
            "0.7751937984496124\n",
            "0.7862679955703211\n",
            "0.7973421926910299\n",
            "0.8084163898117387\n",
            "0.8194905869324474\n",
            "0.8305647840531561\n",
            "0.8416389811738649\n",
            "0.8527131782945736\n",
            "0.8637873754152824\n",
            "0.8748615725359912\n",
            "0.8859357696566998\n",
            "0.8970099667774086\n",
            "0.9080841638981174\n",
            "0.9191583610188261\n",
            "0.9302325581395349\n",
            "0.9413067552602437\n",
            "0.9523809523809523\n",
            "0.9634551495016611\n",
            "0.9745293466223699\n",
            "0.9856035437430787\n",
            "0.9966777408637874\n",
            "collaborative filtering result:  recall= 0.04794080084140935 precision= 0.37962962962962954\n",
            "content based filtering result:  recall= 0.0034167230110434977 precision= 0.03377777777777778\n",
            "Hybrid filtering result:  recall= 0.0019607843137254906 precision= 0.021111111111111112\n"
          ],
          "name": "stdout"
        }
      ]
    },
    {
      "cell_type": "markdown",
      "metadata": {
        "id": "cL70N8x6ig8v"
      },
      "source": [
        "همانطور که از نتایج چاپ شده مشخص است، در روش پالایش همکارانه بیشترین دقت و فراخوانی را داشته ایم. پس  به نظر برای این مجموعه داده ، این روش مناسبتر است."
      ]
    }
  ]
}